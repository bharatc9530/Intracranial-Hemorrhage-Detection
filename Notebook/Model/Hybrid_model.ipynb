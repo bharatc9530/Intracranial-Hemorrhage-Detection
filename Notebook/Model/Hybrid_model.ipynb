{
 "cells": [
  {
   "cell_type": "code",
   "execution_count": 1,
   "metadata": {},
   "outputs": [
    {
     "name": "stderr",
     "output_type": "stream",
     "text": [
      "Using TensorFlow backend.\n"
     ]
    }
   ],
   "source": [
    "import os\n",
    "import pickle\n",
    "import random\n",
    "import glob\n",
    "import datetime\n",
    "import pandas as pd\n",
    "import numpy as np\n",
    "import cv2\n",
    "import pydicom\n",
    "from tqdm import tqdm\n",
    "from joblib import delayed, Parallel\n",
    "import zipfile\n",
    "from pydicom.filebase import DicomBytesIO\n",
    "import sys\n",
    "from PIL import Image\n",
    "import cv2\n",
    "#from focal_loss import sparse_categorical_focal_loss\n",
    "import keras\n",
    "#import tensorflow_addons as tfa\n",
    "from tensorflow.keras.preprocessing.image import ImageDataGenerator\n",
    "from keras.models import model_from_json\n",
    "import tensorflow as tf\n",
    "import keras\n",
    "from keras.models import Sequential, Model\n",
    "from keras.layers import Dense, Conv2D, Flatten, MaxPooling2D, GlobalAveragePooling2D, Dropout\n",
    "from keras.applications.inception_v3 import InceptionV3\n",
    "\n",
    "# importing pyplot and image from matplotlib \n",
    "import matplotlib.pyplot as plt \n",
    "import matplotlib.image as mpimg \n",
    "from keras.optimizers import SGD\n",
    "from keras import backend\n",
    "from keras.models import load_model\n",
    "\n",
    "from keras.preprocessing import image\n",
    "import albumentations as A\n",
    "\n",
    "\n",
    "from sklearn.metrics import classification_report, confusion_matrix, roc_auc_score, roc_curve\n",
    "import tensorflow as tf"
   ]
  },
  {
   "cell_type": "code",
   "execution_count": 2,
   "metadata": {},
   "outputs": [],
   "source": [
    "from tensorflow.keras.losses import Reduction\n",
    "\n",
    "from tensorflow_addons.losses import SigmoidFocalCrossEntropy"
   ]
  },
  {
   "cell_type": "code",
   "execution_count": 3,
   "metadata": {},
   "outputs": [],
   "source": [
    "base_url = '/home/ubuntu/kaggle/rsna-intracranial-hemorrhage-detection/'\n",
    "TRAIN_DIR = '/home/ubuntu/kaggle/rsna-intracranial-hemorrhage-detection/stage_2_train/'\n",
    "TEST_DIR = '/home/ubuntu/kaggle/rsna-intracranial-hemorrhage-detection/stage_2_test/'\n",
    "image_dir = '/home/ubuntu/kaggle/rsna-intracranial-hemorrhage-detection/png/train/brain-subdural-bone/'\n",
    "save_dir = 'home/ubuntu/kaggle/models/'\n",
    "os.listdir(base_url)\n",
    "\n",
    "def png(image): \n",
    "    return image + '.png'"
   ]
  },
  {
   "cell_type": "markdown",
   "metadata": {},
   "source": [
    "# Learning rate"
   ]
  },
  {
   "cell_type": "code",
   "execution_count": 4,
   "metadata": {},
   "outputs": [],
   "source": [
    "initial_learning_rate = 1e-2\n",
    "first_decay_steps = 1000\n",
    "lr_decayed_fn = (\n",
    "  tf.keras.experimental.CosineDecayRestarts(\n",
    "      initial_learning_rate,\n",
    "      first_decay_steps))\n",
    "opt = tf.keras.optimizers.SGD(learning_rate=lr_decayed_fn, nesterov=True)"
   ]
  },
  {
   "cell_type": "markdown",
   "metadata": {},
   "source": [
    "# Undersampling"
   ]
  },
  {
   "cell_type": "code",
   "execution_count": 5,
   "metadata": {},
   "outputs": [],
   "source": [
    "def undersample(dataframe,steps,batch_size):\n",
    "        part = np.int(steps/3 * batch_size)\n",
    "        zero_ids = np.random.choice(dataframe.loc[dataframe[\"any\"] == 0].index.values, size=2*part, replace=False)\n",
    "        hot_ids = np.random.choice(dataframe.loc[dataframe[\"any\"] == 1].index.values, size=1*part, replace=False)\n",
    "        data_ids = list(set(zero_ids).union(hot_ids))\n",
    "        np.random.shuffle(data_ids)\n",
    "        return data_ids\n",
    "        "
   ]
  },
  {
   "cell_type": "code",
   "execution_count": 8,
   "metadata": {},
   "outputs": [
    {
     "name": "stdout",
     "output_type": "stream",
     "text": [
      "257598\n",
      "64320\n"
     ]
    }
   ],
   "source": [
    "train_indices = undersample(training_data, 8050,32)\n",
    "print(len(train_indices))\n",
    "\n",
    "valid_indices = undersample(validation_data, 2010,32)\n",
    "print(len(valid_indices))"
   ]
  },
  {
   "cell_type": "code",
   "execution_count": 10,
   "metadata": {},
   "outputs": [],
   "source": [
    "l = training_data[training_data.index.isin(train_indices)]\n",
    "m = validation_data[validation_data.index.isin(valid_indices)]"
   ]
  },
  {
   "cell_type": "markdown",
   "metadata": {},
   "source": [
    "# Generator"
   ]
  },
  {
   "cell_type": "code",
   "execution_count": 7,
   "metadata": {},
   "outputs": [],
   "source": [
    "train_idg = ImageDataGenerator(\n",
    "        featurewise_center=False,  # set input mean to 0 over the dataset\n",
    "        samplewise_center=False,  # set each sample mean to 0\n",
    "        featurewise_std_normalization=False,  # divide inputs by std of the dataset\n",
    "        samplewise_std_normalization=False,  # divide each input by its std\n",
    "        zca_whitening=False,  # apply ZCA whitening\n",
    "        shear_range=0.05,\n",
    "        rotation_range=50, # randomly rotate images in the range (degrees, 0 to 180)\n",
    "        width_shift_range=0.1,  # randomly shift images horizontally (fraction of total width)\n",
    "        height_shift_range=0.1,  # randomly shift images vertically (fraction of total height)\n",
    "        horizontal_flip=True,\n",
    "        rescale=1./255)\n",
    "valid_idg = ImageDataGenerator(rescale=1./255)\n",
    "training_data = pd.read_csv(f'train_2.csv') \n",
    "training_data['Image'] = training_data['Image'].apply(png)\n",
    "\n",
    "validation_data = pd.read_csv(f'valid_2.csv')\n",
    "validation_data['Image'] = validation_data['Image'].apply(png)\n",
    "\n",
    "columns=['any','epidural','intraparenchymal','intraventricular', 'subarachnoid','subdural']\n",
    "\n",
    "#train_data_generator = train_idg.flow_from_dataframe(training_data, directory = image_dir,\n",
    "#                           x_col = \"Image\", y_col = columns,batch_size=64,\n",
    "#                           class_mode=\"raw\", target_size=(224,224), shuffle = True)\n",
    "#valid_data_generator  = valid_idg.flow_from_dataframe(validation_data, directory = image_dir,\n",
    "#                        x_col = \"Image\", y_col = columns,batch_size=64,\n",
    "#                        class_mode = \"raw\",target_size=(224,224), shuffle = False)"
   ]
  },
  {
   "cell_type": "code",
   "execution_count": 11,
   "metadata": {},
   "outputs": [
    {
     "name": "stdout",
     "output_type": "stream",
     "text": [
      "Found 257598 validated image filenames.\n",
      "Found 64320 validated image filenames.\n"
     ]
    }
   ],
   "source": [
    "train_under_generator = train_idg.flow_from_dataframe(l, directory = image_dir,\n",
    "                           x_col = \"Image\", y_col = columns,batch_size=64,\n",
    "                           class_mode=\"raw\", target_size=(224,224), shuffle = True)\n",
    "valid_under_generator  = valid_idg.flow_from_dataframe(m, directory = image_dir,\n",
    "                        x_col = \"Image\", y_col = columns,batch_size=64,\n",
    "                        class_mode = \"raw\",target_size=(224,224), shuffle = False)"
   ]
  },
  {
   "cell_type": "markdown",
   "metadata": {},
   "source": [
    "# Model"
   ]
  },
  {
   "cell_type": "code",
   "execution_count": null,
   "metadata": {},
   "outputs": [],
   "source": []
  },
  {
   "cell_type": "code",
   "execution_count": null,
   "metadata": {},
   "outputs": [],
   "source": []
  },
  {
   "cell_type": "code",
   "execution_count": 12,
   "metadata": {},
   "outputs": [
    {
     "name": "stdout",
     "output_type": "stream",
     "text": [
      "Model loaded.\n",
      "Model: \"resnet50\"\n",
      "__________________________________________________________________________________________________\n",
      "Layer (type)                    Output Shape         Param #     Connected to                     \n",
      "==================================================================================================\n",
      "input_1 (InputLayer)            [(None, 224, 224, 3) 0                                            \n",
      "__________________________________________________________________________________________________\n",
      "conv1_pad (ZeroPadding2D)       (None, 230, 230, 3)  0           input_1[0][0]                    \n",
      "__________________________________________________________________________________________________\n",
      "conv1_conv (Conv2D)             (None, 112, 112, 64) 9472        conv1_pad[0][0]                  \n",
      "__________________________________________________________________________________________________\n",
      "conv1_bn (BatchNormalization)   (None, 112, 112, 64) 256         conv1_conv[0][0]                 \n",
      "__________________________________________________________________________________________________\n",
      "conv1_relu (Activation)         (None, 112, 112, 64) 0           conv1_bn[0][0]                   \n",
      "__________________________________________________________________________________________________\n",
      "pool1_pad (ZeroPadding2D)       (None, 114, 114, 64) 0           conv1_relu[0][0]                 \n",
      "__________________________________________________________________________________________________\n",
      "pool1_pool (MaxPooling2D)       (None, 56, 56, 64)   0           pool1_pad[0][0]                  \n",
      "__________________________________________________________________________________________________\n",
      "conv2_block1_1_conv (Conv2D)    (None, 56, 56, 64)   4160        pool1_pool[0][0]                 \n",
      "__________________________________________________________________________________________________\n",
      "conv2_block1_1_bn (BatchNormali (None, 56, 56, 64)   256         conv2_block1_1_conv[0][0]        \n",
      "__________________________________________________________________________________________________\n",
      "conv2_block1_1_relu (Activation (None, 56, 56, 64)   0           conv2_block1_1_bn[0][0]          \n",
      "__________________________________________________________________________________________________\n",
      "conv2_block1_2_conv (Conv2D)    (None, 56, 56, 64)   36928       conv2_block1_1_relu[0][0]        \n",
      "__________________________________________________________________________________________________\n",
      "conv2_block1_2_bn (BatchNormali (None, 56, 56, 64)   256         conv2_block1_2_conv[0][0]        \n",
      "__________________________________________________________________________________________________\n",
      "conv2_block1_2_relu (Activation (None, 56, 56, 64)   0           conv2_block1_2_bn[0][0]          \n",
      "__________________________________________________________________________________________________\n",
      "conv2_block1_0_conv (Conv2D)    (None, 56, 56, 256)  16640       pool1_pool[0][0]                 \n",
      "__________________________________________________________________________________________________\n",
      "conv2_block1_3_conv (Conv2D)    (None, 56, 56, 256)  16640       conv2_block1_2_relu[0][0]        \n",
      "__________________________________________________________________________________________________\n",
      "conv2_block1_0_bn (BatchNormali (None, 56, 56, 256)  1024        conv2_block1_0_conv[0][0]        \n",
      "__________________________________________________________________________________________________\n",
      "conv2_block1_3_bn (BatchNormali (None, 56, 56, 256)  1024        conv2_block1_3_conv[0][0]        \n",
      "__________________________________________________________________________________________________\n",
      "conv2_block1_add (Add)          (None, 56, 56, 256)  0           conv2_block1_0_bn[0][0]          \n",
      "                                                                 conv2_block1_3_bn[0][0]          \n",
      "__________________________________________________________________________________________________\n",
      "conv2_block1_out (Activation)   (None, 56, 56, 256)  0           conv2_block1_add[0][0]           \n",
      "__________________________________________________________________________________________________\n",
      "conv2_block2_1_conv (Conv2D)    (None, 56, 56, 64)   16448       conv2_block1_out[0][0]           \n",
      "__________________________________________________________________________________________________\n",
      "conv2_block2_1_bn (BatchNormali (None, 56, 56, 64)   256         conv2_block2_1_conv[0][0]        \n",
      "__________________________________________________________________________________________________\n",
      "conv2_block2_1_relu (Activation (None, 56, 56, 64)   0           conv2_block2_1_bn[0][0]          \n",
      "__________________________________________________________________________________________________\n",
      "conv2_block2_2_conv (Conv2D)    (None, 56, 56, 64)   36928       conv2_block2_1_relu[0][0]        \n",
      "__________________________________________________________________________________________________\n",
      "conv2_block2_2_bn (BatchNormali (None, 56, 56, 64)   256         conv2_block2_2_conv[0][0]        \n",
      "__________________________________________________________________________________________________\n",
      "conv2_block2_2_relu (Activation (None, 56, 56, 64)   0           conv2_block2_2_bn[0][0]          \n",
      "__________________________________________________________________________________________________\n",
      "conv2_block2_3_conv (Conv2D)    (None, 56, 56, 256)  16640       conv2_block2_2_relu[0][0]        \n",
      "__________________________________________________________________________________________________\n",
      "conv2_block2_3_bn (BatchNormali (None, 56, 56, 256)  1024        conv2_block2_3_conv[0][0]        \n",
      "__________________________________________________________________________________________________\n",
      "conv2_block2_add (Add)          (None, 56, 56, 256)  0           conv2_block1_out[0][0]           \n",
      "                                                                 conv2_block2_3_bn[0][0]          \n",
      "__________________________________________________________________________________________________\n",
      "conv2_block2_out (Activation)   (None, 56, 56, 256)  0           conv2_block2_add[0][0]           \n",
      "__________________________________________________________________________________________________\n",
      "conv2_block3_1_conv (Conv2D)    (None, 56, 56, 64)   16448       conv2_block2_out[0][0]           \n",
      "__________________________________________________________________________________________________\n",
      "conv2_block3_1_bn (BatchNormali (None, 56, 56, 64)   256         conv2_block3_1_conv[0][0]        \n",
      "__________________________________________________________________________________________________\n",
      "conv2_block3_1_relu (Activation (None, 56, 56, 64)   0           conv2_block3_1_bn[0][0]          \n",
      "__________________________________________________________________________________________________\n",
      "conv2_block3_2_conv (Conv2D)    (None, 56, 56, 64)   36928       conv2_block3_1_relu[0][0]        \n",
      "__________________________________________________________________________________________________\n",
      "conv2_block3_2_bn (BatchNormali (None, 56, 56, 64)   256         conv2_block3_2_conv[0][0]        \n",
      "__________________________________________________________________________________________________\n",
      "conv2_block3_2_relu (Activation (None, 56, 56, 64)   0           conv2_block3_2_bn[0][0]          \n",
      "__________________________________________________________________________________________________\n",
      "conv2_block3_3_conv (Conv2D)    (None, 56, 56, 256)  16640       conv2_block3_2_relu[0][0]        \n",
      "__________________________________________________________________________________________________\n",
      "conv2_block3_3_bn (BatchNormali (None, 56, 56, 256)  1024        conv2_block3_3_conv[0][0]        \n",
      "__________________________________________________________________________________________________\n",
      "conv2_block3_add (Add)          (None, 56, 56, 256)  0           conv2_block2_out[0][0]           \n",
      "                                                                 conv2_block3_3_bn[0][0]          \n",
      "__________________________________________________________________________________________________\n",
      "conv2_block3_out (Activation)   (None, 56, 56, 256)  0           conv2_block3_add[0][0]           \n",
      "__________________________________________________________________________________________________\n",
      "conv3_block1_1_conv (Conv2D)    (None, 28, 28, 128)  32896       conv2_block3_out[0][0]           \n",
      "__________________________________________________________________________________________________\n",
      "conv3_block1_1_bn (BatchNormali (None, 28, 28, 128)  512         conv3_block1_1_conv[0][0]        \n",
      "__________________________________________________________________________________________________\n",
      "conv3_block1_1_relu (Activation (None, 28, 28, 128)  0           conv3_block1_1_bn[0][0]          \n",
      "__________________________________________________________________________________________________\n",
      "conv3_block1_2_conv (Conv2D)    (None, 28, 28, 128)  147584      conv3_block1_1_relu[0][0]        \n",
      "__________________________________________________________________________________________________\n",
      "conv3_block1_2_bn (BatchNormali (None, 28, 28, 128)  512         conv3_block1_2_conv[0][0]        \n",
      "__________________________________________________________________________________________________\n",
      "conv3_block1_2_relu (Activation (None, 28, 28, 128)  0           conv3_block1_2_bn[0][0]          \n",
      "__________________________________________________________________________________________________\n",
      "conv3_block1_0_conv (Conv2D)    (None, 28, 28, 512)  131584      conv2_block3_out[0][0]           \n",
      "__________________________________________________________________________________________________\n",
      "conv3_block1_3_conv (Conv2D)    (None, 28, 28, 512)  66048       conv3_block1_2_relu[0][0]        \n",
      "__________________________________________________________________________________________________\n",
      "conv3_block1_0_bn (BatchNormali (None, 28, 28, 512)  2048        conv3_block1_0_conv[0][0]        \n",
      "__________________________________________________________________________________________________\n",
      "conv3_block1_3_bn (BatchNormali (None, 28, 28, 512)  2048        conv3_block1_3_conv[0][0]        \n",
      "__________________________________________________________________________________________________\n",
      "conv3_block1_add (Add)          (None, 28, 28, 512)  0           conv3_block1_0_bn[0][0]          \n",
      "                                                                 conv3_block1_3_bn[0][0]          \n",
      "__________________________________________________________________________________________________\n",
      "conv3_block1_out (Activation)   (None, 28, 28, 512)  0           conv3_block1_add[0][0]           \n",
      "__________________________________________________________________________________________________\n",
      "conv3_block2_1_conv (Conv2D)    (None, 28, 28, 128)  65664       conv3_block1_out[0][0]           \n",
      "__________________________________________________________________________________________________\n",
      "conv3_block2_1_bn (BatchNormali (None, 28, 28, 128)  512         conv3_block2_1_conv[0][0]        \n",
      "__________________________________________________________________________________________________\n",
      "conv3_block2_1_relu (Activation (None, 28, 28, 128)  0           conv3_block2_1_bn[0][0]          \n",
      "__________________________________________________________________________________________________\n",
      "conv3_block2_2_conv (Conv2D)    (None, 28, 28, 128)  147584      conv3_block2_1_relu[0][0]        \n",
      "__________________________________________________________________________________________________\n",
      "conv3_block2_2_bn (BatchNormali (None, 28, 28, 128)  512         conv3_block2_2_conv[0][0]        \n",
      "__________________________________________________________________________________________________\n",
      "conv3_block2_2_relu (Activation (None, 28, 28, 128)  0           conv3_block2_2_bn[0][0]          \n",
      "__________________________________________________________________________________________________\n",
      "conv3_block2_3_conv (Conv2D)    (None, 28, 28, 512)  66048       conv3_block2_2_relu[0][0]        \n",
      "__________________________________________________________________________________________________\n",
      "conv3_block2_3_bn (BatchNormali (None, 28, 28, 512)  2048        conv3_block2_3_conv[0][0]        \n",
      "__________________________________________________________________________________________________\n",
      "conv3_block2_add (Add)          (None, 28, 28, 512)  0           conv3_block1_out[0][0]           \n",
      "                                                                 conv3_block2_3_bn[0][0]          \n",
      "__________________________________________________________________________________________________\n",
      "conv3_block2_out (Activation)   (None, 28, 28, 512)  0           conv3_block2_add[0][0]           \n",
      "__________________________________________________________________________________________________\n",
      "conv3_block3_1_conv (Conv2D)    (None, 28, 28, 128)  65664       conv3_block2_out[0][0]           \n",
      "__________________________________________________________________________________________________\n",
      "conv3_block3_1_bn (BatchNormali (None, 28, 28, 128)  512         conv3_block3_1_conv[0][0]        \n",
      "__________________________________________________________________________________________________\n",
      "conv3_block3_1_relu (Activation (None, 28, 28, 128)  0           conv3_block3_1_bn[0][0]          \n",
      "__________________________________________________________________________________________________\n",
      "conv3_block3_2_conv (Conv2D)    (None, 28, 28, 128)  147584      conv3_block3_1_relu[0][0]        \n",
      "__________________________________________________________________________________________________\n",
      "conv3_block3_2_bn (BatchNormali (None, 28, 28, 128)  512         conv3_block3_2_conv[0][0]        \n",
      "__________________________________________________________________________________________________\n",
      "conv3_block3_2_relu (Activation (None, 28, 28, 128)  0           conv3_block3_2_bn[0][0]          \n",
      "__________________________________________________________________________________________________\n",
      "conv3_block3_3_conv (Conv2D)    (None, 28, 28, 512)  66048       conv3_block3_2_relu[0][0]        \n",
      "__________________________________________________________________________________________________\n",
      "conv3_block3_3_bn (BatchNormali (None, 28, 28, 512)  2048        conv3_block3_3_conv[0][0]        \n",
      "__________________________________________________________________________________________________\n",
      "conv3_block3_add (Add)          (None, 28, 28, 512)  0           conv3_block2_out[0][0]           \n",
      "                                                                 conv3_block3_3_bn[0][0]          \n",
      "__________________________________________________________________________________________________\n",
      "conv3_block3_out (Activation)   (None, 28, 28, 512)  0           conv3_block3_add[0][0]           \n",
      "__________________________________________________________________________________________________\n",
      "conv3_block4_1_conv (Conv2D)    (None, 28, 28, 128)  65664       conv3_block3_out[0][0]           \n",
      "__________________________________________________________________________________________________\n",
      "conv3_block4_1_bn (BatchNormali (None, 28, 28, 128)  512         conv3_block4_1_conv[0][0]        \n",
      "__________________________________________________________________________________________________\n",
      "conv3_block4_1_relu (Activation (None, 28, 28, 128)  0           conv3_block4_1_bn[0][0]          \n",
      "__________________________________________________________________________________________________\n",
      "conv3_block4_2_conv (Conv2D)    (None, 28, 28, 128)  147584      conv3_block4_1_relu[0][0]        \n",
      "__________________________________________________________________________________________________\n",
      "conv3_block4_2_bn (BatchNormali (None, 28, 28, 128)  512         conv3_block4_2_conv[0][0]        \n",
      "__________________________________________________________________________________________________\n",
      "conv3_block4_2_relu (Activation (None, 28, 28, 128)  0           conv3_block4_2_bn[0][0]          \n",
      "__________________________________________________________________________________________________\n",
      "conv3_block4_3_conv (Conv2D)    (None, 28, 28, 512)  66048       conv3_block4_2_relu[0][0]        \n",
      "__________________________________________________________________________________________________\n",
      "conv3_block4_3_bn (BatchNormali (None, 28, 28, 512)  2048        conv3_block4_3_conv[0][0]        \n",
      "__________________________________________________________________________________________________\n",
      "conv3_block4_add (Add)          (None, 28, 28, 512)  0           conv3_block3_out[0][0]           \n",
      "                                                                 conv3_block4_3_bn[0][0]          \n",
      "__________________________________________________________________________________________________\n",
      "conv3_block4_out (Activation)   (None, 28, 28, 512)  0           conv3_block4_add[0][0]           \n",
      "__________________________________________________________________________________________________\n",
      "conv4_block1_1_conv (Conv2D)    (None, 14, 14, 256)  131328      conv3_block4_out[0][0]           \n",
      "__________________________________________________________________________________________________\n",
      "conv4_block1_1_bn (BatchNormali (None, 14, 14, 256)  1024        conv4_block1_1_conv[0][0]        \n",
      "__________________________________________________________________________________________________\n",
      "conv4_block1_1_relu (Activation (None, 14, 14, 256)  0           conv4_block1_1_bn[0][0]          \n",
      "__________________________________________________________________________________________________\n",
      "conv4_block1_2_conv (Conv2D)    (None, 14, 14, 256)  590080      conv4_block1_1_relu[0][0]        \n",
      "__________________________________________________________________________________________________\n",
      "conv4_block1_2_bn (BatchNormali (None, 14, 14, 256)  1024        conv4_block1_2_conv[0][0]        \n",
      "__________________________________________________________________________________________________\n",
      "conv4_block1_2_relu (Activation (None, 14, 14, 256)  0           conv4_block1_2_bn[0][0]          \n",
      "__________________________________________________________________________________________________\n",
      "conv4_block1_0_conv (Conv2D)    (None, 14, 14, 1024) 525312      conv3_block4_out[0][0]           \n",
      "__________________________________________________________________________________________________\n",
      "conv4_block1_3_conv (Conv2D)    (None, 14, 14, 1024) 263168      conv4_block1_2_relu[0][0]        \n",
      "__________________________________________________________________________________________________\n",
      "conv4_block1_0_bn (BatchNormali (None, 14, 14, 1024) 4096        conv4_block1_0_conv[0][0]        \n",
      "__________________________________________________________________________________________________\n",
      "conv4_block1_3_bn (BatchNormali (None, 14, 14, 1024) 4096        conv4_block1_3_conv[0][0]        \n",
      "__________________________________________________________________________________________________\n",
      "conv4_block1_add (Add)          (None, 14, 14, 1024) 0           conv4_block1_0_bn[0][0]          \n",
      "                                                                 conv4_block1_3_bn[0][0]          \n",
      "__________________________________________________________________________________________________\n",
      "conv4_block1_out (Activation)   (None, 14, 14, 1024) 0           conv4_block1_add[0][0]           \n",
      "__________________________________________________________________________________________________\n",
      "conv4_block2_1_conv (Conv2D)    (None, 14, 14, 256)  262400      conv4_block1_out[0][0]           \n",
      "__________________________________________________________________________________________________\n",
      "conv4_block2_1_bn (BatchNormali (None, 14, 14, 256)  1024        conv4_block2_1_conv[0][0]        \n",
      "__________________________________________________________________________________________________\n",
      "conv4_block2_1_relu (Activation (None, 14, 14, 256)  0           conv4_block2_1_bn[0][0]          \n",
      "__________________________________________________________________________________________________\n",
      "conv4_block2_2_conv (Conv2D)    (None, 14, 14, 256)  590080      conv4_block2_1_relu[0][0]        \n",
      "__________________________________________________________________________________________________\n",
      "conv4_block2_2_bn (BatchNormali (None, 14, 14, 256)  1024        conv4_block2_2_conv[0][0]        \n",
      "__________________________________________________________________________________________________\n",
      "conv4_block2_2_relu (Activation (None, 14, 14, 256)  0           conv4_block2_2_bn[0][0]          \n",
      "__________________________________________________________________________________________________\n",
      "conv4_block2_3_conv (Conv2D)    (None, 14, 14, 1024) 263168      conv4_block2_2_relu[0][0]        \n",
      "__________________________________________________________________________________________________\n",
      "conv4_block2_3_bn (BatchNormali (None, 14, 14, 1024) 4096        conv4_block2_3_conv[0][0]        \n",
      "__________________________________________________________________________________________________\n",
      "conv4_block2_add (Add)          (None, 14, 14, 1024) 0           conv4_block1_out[0][0]           \n",
      "                                                                 conv4_block2_3_bn[0][0]          \n",
      "__________________________________________________________________________________________________\n",
      "conv4_block2_out (Activation)   (None, 14, 14, 1024) 0           conv4_block2_add[0][0]           \n",
      "__________________________________________________________________________________________________\n",
      "conv4_block3_1_conv (Conv2D)    (None, 14, 14, 256)  262400      conv4_block2_out[0][0]           \n",
      "__________________________________________________________________________________________________\n",
      "conv4_block3_1_bn (BatchNormali (None, 14, 14, 256)  1024        conv4_block3_1_conv[0][0]        \n",
      "__________________________________________________________________________________________________\n",
      "conv4_block3_1_relu (Activation (None, 14, 14, 256)  0           conv4_block3_1_bn[0][0]          \n",
      "__________________________________________________________________________________________________\n",
      "conv4_block3_2_conv (Conv2D)    (None, 14, 14, 256)  590080      conv4_block3_1_relu[0][0]        \n",
      "__________________________________________________________________________________________________\n",
      "conv4_block3_2_bn (BatchNormali (None, 14, 14, 256)  1024        conv4_block3_2_conv[0][0]        \n",
      "__________________________________________________________________________________________________\n",
      "conv4_block3_2_relu (Activation (None, 14, 14, 256)  0           conv4_block3_2_bn[0][0]          \n",
      "__________________________________________________________________________________________________\n",
      "conv4_block3_3_conv (Conv2D)    (None, 14, 14, 1024) 263168      conv4_block3_2_relu[0][0]        \n",
      "__________________________________________________________________________________________________\n",
      "conv4_block3_3_bn (BatchNormali (None, 14, 14, 1024) 4096        conv4_block3_3_conv[0][0]        \n",
      "__________________________________________________________________________________________________\n",
      "conv4_block3_add (Add)          (None, 14, 14, 1024) 0           conv4_block2_out[0][0]           \n",
      "                                                                 conv4_block3_3_bn[0][0]          \n",
      "__________________________________________________________________________________________________\n",
      "conv4_block3_out (Activation)   (None, 14, 14, 1024) 0           conv4_block3_add[0][0]           \n",
      "__________________________________________________________________________________________________\n",
      "conv4_block4_1_conv (Conv2D)    (None, 14, 14, 256)  262400      conv4_block3_out[0][0]           \n",
      "__________________________________________________________________________________________________\n",
      "conv4_block4_1_bn (BatchNormali (None, 14, 14, 256)  1024        conv4_block4_1_conv[0][0]        \n",
      "__________________________________________________________________________________________________\n",
      "conv4_block4_1_relu (Activation (None, 14, 14, 256)  0           conv4_block4_1_bn[0][0]          \n",
      "__________________________________________________________________________________________________\n",
      "conv4_block4_2_conv (Conv2D)    (None, 14, 14, 256)  590080      conv4_block4_1_relu[0][0]        \n",
      "__________________________________________________________________________________________________\n",
      "conv4_block4_2_bn (BatchNormali (None, 14, 14, 256)  1024        conv4_block4_2_conv[0][0]        \n",
      "__________________________________________________________________________________________________\n",
      "conv4_block4_2_relu (Activation (None, 14, 14, 256)  0           conv4_block4_2_bn[0][0]          \n",
      "__________________________________________________________________________________________________\n",
      "conv4_block4_3_conv (Conv2D)    (None, 14, 14, 1024) 263168      conv4_block4_2_relu[0][0]        \n",
      "__________________________________________________________________________________________________\n",
      "conv4_block4_3_bn (BatchNormali (None, 14, 14, 1024) 4096        conv4_block4_3_conv[0][0]        \n",
      "__________________________________________________________________________________________________\n",
      "conv4_block4_add (Add)          (None, 14, 14, 1024) 0           conv4_block3_out[0][0]           \n",
      "                                                                 conv4_block4_3_bn[0][0]          \n",
      "__________________________________________________________________________________________________\n",
      "conv4_block4_out (Activation)   (None, 14, 14, 1024) 0           conv4_block4_add[0][0]           \n",
      "__________________________________________________________________________________________________\n",
      "conv4_block5_1_conv (Conv2D)    (None, 14, 14, 256)  262400      conv4_block4_out[0][0]           \n",
      "__________________________________________________________________________________________________\n",
      "conv4_block5_1_bn (BatchNormali (None, 14, 14, 256)  1024        conv4_block5_1_conv[0][0]        \n",
      "__________________________________________________________________________________________________\n",
      "conv4_block5_1_relu (Activation (None, 14, 14, 256)  0           conv4_block5_1_bn[0][0]          \n",
      "__________________________________________________________________________________________________\n",
      "conv4_block5_2_conv (Conv2D)    (None, 14, 14, 256)  590080      conv4_block5_1_relu[0][0]        \n",
      "__________________________________________________________________________________________________\n",
      "conv4_block5_2_bn (BatchNormali (None, 14, 14, 256)  1024        conv4_block5_2_conv[0][0]        \n",
      "__________________________________________________________________________________________________\n",
      "conv4_block5_2_relu (Activation (None, 14, 14, 256)  0           conv4_block5_2_bn[0][0]          \n",
      "__________________________________________________________________________________________________\n",
      "conv4_block5_3_conv (Conv2D)    (None, 14, 14, 1024) 263168      conv4_block5_2_relu[0][0]        \n",
      "__________________________________________________________________________________________________\n",
      "conv4_block5_3_bn (BatchNormali (None, 14, 14, 1024) 4096        conv4_block5_3_conv[0][0]        \n",
      "__________________________________________________________________________________________________\n",
      "conv4_block5_add (Add)          (None, 14, 14, 1024) 0           conv4_block4_out[0][0]           \n",
      "                                                                 conv4_block5_3_bn[0][0]          \n",
      "__________________________________________________________________________________________________\n",
      "conv4_block5_out (Activation)   (None, 14, 14, 1024) 0           conv4_block5_add[0][0]           \n",
      "__________________________________________________________________________________________________\n",
      "conv4_block6_1_conv (Conv2D)    (None, 14, 14, 256)  262400      conv4_block5_out[0][0]           \n",
      "__________________________________________________________________________________________________\n",
      "conv4_block6_1_bn (BatchNormali (None, 14, 14, 256)  1024        conv4_block6_1_conv[0][0]        \n",
      "__________________________________________________________________________________________________\n",
      "conv4_block6_1_relu (Activation (None, 14, 14, 256)  0           conv4_block6_1_bn[0][0]          \n",
      "__________________________________________________________________________________________________\n",
      "conv4_block6_2_conv (Conv2D)    (None, 14, 14, 256)  590080      conv4_block6_1_relu[0][0]        \n",
      "__________________________________________________________________________________________________\n",
      "conv4_block6_2_bn (BatchNormali (None, 14, 14, 256)  1024        conv4_block6_2_conv[0][0]        \n",
      "__________________________________________________________________________________________________\n",
      "conv4_block6_2_relu (Activation (None, 14, 14, 256)  0           conv4_block6_2_bn[0][0]          \n",
      "__________________________________________________________________________________________________\n",
      "conv4_block6_3_conv (Conv2D)    (None, 14, 14, 1024) 263168      conv4_block6_2_relu[0][0]        \n",
      "__________________________________________________________________________________________________\n",
      "conv4_block6_3_bn (BatchNormali (None, 14, 14, 1024) 4096        conv4_block6_3_conv[0][0]        \n",
      "__________________________________________________________________________________________________\n",
      "conv4_block6_add (Add)          (None, 14, 14, 1024) 0           conv4_block5_out[0][0]           \n",
      "                                                                 conv4_block6_3_bn[0][0]          \n",
      "__________________________________________________________________________________________________\n",
      "conv4_block6_out (Activation)   (None, 14, 14, 1024) 0           conv4_block6_add[0][0]           \n",
      "__________________________________________________________________________________________________\n",
      "conv5_block1_1_conv (Conv2D)    (None, 7, 7, 512)    524800      conv4_block6_out[0][0]           \n",
      "__________________________________________________________________________________________________\n",
      "conv5_block1_1_bn (BatchNormali (None, 7, 7, 512)    2048        conv5_block1_1_conv[0][0]        \n",
      "__________________________________________________________________________________________________\n",
      "conv5_block1_1_relu (Activation (None, 7, 7, 512)    0           conv5_block1_1_bn[0][0]          \n",
      "__________________________________________________________________________________________________\n",
      "conv5_block1_2_conv (Conv2D)    (None, 7, 7, 512)    2359808     conv5_block1_1_relu[0][0]        \n",
      "__________________________________________________________________________________________________\n",
      "conv5_block1_2_bn (BatchNormali (None, 7, 7, 512)    2048        conv5_block1_2_conv[0][0]        \n",
      "__________________________________________________________________________________________________\n",
      "conv5_block1_2_relu (Activation (None, 7, 7, 512)    0           conv5_block1_2_bn[0][0]          \n",
      "__________________________________________________________________________________________________\n",
      "conv5_block1_0_conv (Conv2D)    (None, 7, 7, 2048)   2099200     conv4_block6_out[0][0]           \n",
      "__________________________________________________________________________________________________\n",
      "conv5_block1_3_conv (Conv2D)    (None, 7, 7, 2048)   1050624     conv5_block1_2_relu[0][0]        \n",
      "__________________________________________________________________________________________________\n",
      "conv5_block1_0_bn (BatchNormali (None, 7, 7, 2048)   8192        conv5_block1_0_conv[0][0]        \n",
      "__________________________________________________________________________________________________\n",
      "conv5_block1_3_bn (BatchNormali (None, 7, 7, 2048)   8192        conv5_block1_3_conv[0][0]        \n",
      "__________________________________________________________________________________________________\n",
      "conv5_block1_add (Add)          (None, 7, 7, 2048)   0           conv5_block1_0_bn[0][0]          \n",
      "                                                                 conv5_block1_3_bn[0][0]          \n",
      "__________________________________________________________________________________________________\n",
      "conv5_block1_out (Activation)   (None, 7, 7, 2048)   0           conv5_block1_add[0][0]           \n",
      "__________________________________________________________________________________________________\n",
      "conv5_block2_1_conv (Conv2D)    (None, 7, 7, 512)    1049088     conv5_block1_out[0][0]           \n",
      "__________________________________________________________________________________________________\n",
      "conv5_block2_1_bn (BatchNormali (None, 7, 7, 512)    2048        conv5_block2_1_conv[0][0]        \n",
      "__________________________________________________________________________________________________\n",
      "conv5_block2_1_relu (Activation (None, 7, 7, 512)    0           conv5_block2_1_bn[0][0]          \n",
      "__________________________________________________________________________________________________\n",
      "conv5_block2_2_conv (Conv2D)    (None, 7, 7, 512)    2359808     conv5_block2_1_relu[0][0]        \n",
      "__________________________________________________________________________________________________\n",
      "conv5_block2_2_bn (BatchNormali (None, 7, 7, 512)    2048        conv5_block2_2_conv[0][0]        \n",
      "__________________________________________________________________________________________________\n",
      "conv5_block2_2_relu (Activation (None, 7, 7, 512)    0           conv5_block2_2_bn[0][0]          \n",
      "__________________________________________________________________________________________________\n",
      "conv5_block2_3_conv (Conv2D)    (None, 7, 7, 2048)   1050624     conv5_block2_2_relu[0][0]        \n",
      "__________________________________________________________________________________________________\n",
      "conv5_block2_3_bn (BatchNormali (None, 7, 7, 2048)   8192        conv5_block2_3_conv[0][0]        \n",
      "__________________________________________________________________________________________________\n",
      "conv5_block2_add (Add)          (None, 7, 7, 2048)   0           conv5_block1_out[0][0]           \n",
      "                                                                 conv5_block2_3_bn[0][0]          \n",
      "__________________________________________________________________________________________________\n",
      "conv5_block2_out (Activation)   (None, 7, 7, 2048)   0           conv5_block2_add[0][0]           \n",
      "__________________________________________________________________________________________________\n",
      "conv5_block3_1_conv (Conv2D)    (None, 7, 7, 512)    1049088     conv5_block2_out[0][0]           \n",
      "__________________________________________________________________________________________________\n",
      "conv5_block3_1_bn (BatchNormali (None, 7, 7, 512)    2048        conv5_block3_1_conv[0][0]        \n",
      "__________________________________________________________________________________________________\n",
      "conv5_block3_1_relu (Activation (None, 7, 7, 512)    0           conv5_block3_1_bn[0][0]          \n",
      "__________________________________________________________________________________________________\n",
      "conv5_block3_2_conv (Conv2D)    (None, 7, 7, 512)    2359808     conv5_block3_1_relu[0][0]        \n",
      "__________________________________________________________________________________________________\n",
      "conv5_block3_2_bn (BatchNormali (None, 7, 7, 512)    2048        conv5_block3_2_conv[0][0]        \n",
      "__________________________________________________________________________________________________\n",
      "conv5_block3_2_relu (Activation (None, 7, 7, 512)    0           conv5_block3_2_bn[0][0]          \n",
      "__________________________________________________________________________________________________\n",
      "conv5_block3_3_conv (Conv2D)    (None, 7, 7, 2048)   1050624     conv5_block3_2_relu[0][0]        \n",
      "__________________________________________________________________________________________________\n",
      "conv5_block3_3_bn (BatchNormali (None, 7, 7, 2048)   8192        conv5_block3_3_conv[0][0]        \n",
      "__________________________________________________________________________________________________\n",
      "conv5_block3_add (Add)          (None, 7, 7, 2048)   0           conv5_block2_out[0][0]           \n",
      "                                                                 conv5_block3_3_bn[0][0]          \n",
      "__________________________________________________________________________________________________\n",
      "conv5_block3_out (Activation)   (None, 7, 7, 2048)   0           conv5_block3_add[0][0]           \n",
      "==================================================================================================\n",
      "Total params: 23,587,712\n",
      "Trainable params: 23,534,592\n",
      "Non-trainable params: 53,120\n",
      "__________________________________________________________________________________________________\n"
     ]
    }
   ],
   "source": [
    "from tensorflow.keras.applications.resnet50 import ResNet50\n",
    "\n",
    "\n",
    "base_model = ResNet50(weights='imagenet', include_top=False, input_shape=(224,224,3))\n",
    "print('Model loaded.')\n",
    "\n",
    "\n",
    "base_model.summary()"
   ]
  },
  {
   "cell_type": "code",
   "execution_count": 13,
   "metadata": {},
   "outputs": [
    {
     "name": "stdout",
     "output_type": "stream",
     "text": [
      "{'input_1': <tensorflow.python.keras.engine.input_layer.InputLayer object at 0x7f804ba02828>, 'conv1_pad': <tensorflow.python.keras.layers.convolutional.ZeroPadding2D object at 0x7f8058950cf8>, 'conv1_conv': <tensorflow.python.keras.layers.convolutional.Conv2D object at 0x7f803a4a2f60>, 'conv1_bn': <tensorflow.python.keras.layers.normalization_v2.BatchNormalization object at 0x7f803a405470>, 'conv1_relu': <tensorflow.python.keras.layers.core.Activation object at 0x7f803a405c88>, 'pool1_pad': <tensorflow.python.keras.layers.convolutional.ZeroPadding2D object at 0x7f803a405978>, 'pool1_pool': <tensorflow.python.keras.layers.pooling.MaxPooling2D object at 0x7f80302d3b00>, 'conv2_block1_1_conv': <tensorflow.python.keras.layers.convolutional.Conv2D object at 0x7f80302ef320>, 'conv2_block1_1_bn': <tensorflow.python.keras.layers.normalization_v2.BatchNormalization object at 0x7f80303001d0>, 'conv2_block1_1_relu': <tensorflow.python.keras.layers.core.Activation object at 0x7f8030300f60>, 'conv2_block1_2_conv': <tensorflow.python.keras.layers.convolutional.Conv2D object at 0x7f8030300f28>, 'conv2_block1_2_bn': <tensorflow.python.keras.layers.normalization_v2.BatchNormalization object at 0x7f80302a77f0>, 'conv2_block1_2_relu': <tensorflow.python.keras.layers.core.Activation object at 0x7f80302a7eb8>, 'conv2_block1_0_conv': <tensorflow.python.keras.layers.convolutional.Conv2D object at 0x7f80302e25c0>, 'conv2_block1_3_conv': <tensorflow.python.keras.layers.convolutional.Conv2D object at 0x7f80302a7e80>, 'conv2_block1_0_bn': <tensorflow.python.keras.layers.normalization_v2.BatchNormalization object at 0x7f80302e2f28>, 'conv2_block1_3_bn': <tensorflow.python.keras.layers.normalization_v2.BatchNormalization object at 0x7f80302466d8>, 'conv2_block1_add': <tensorflow.python.keras.layers.merge.Add object at 0x7f8030246d30>, 'conv2_block1_out': <tensorflow.python.keras.layers.core.Activation object at 0x7f8030246358>, 'conv2_block2_1_conv': <tensorflow.python.keras.layers.convolutional.Conv2D object at 0x7f8030260b70>, 'conv2_block2_1_bn': <tensorflow.python.keras.layers.normalization_v2.BatchNormalization object at 0x7f8030266898>, 'conv2_block2_1_relu': <tensorflow.python.keras.layers.core.Activation object at 0x7f8030266f28>, 'conv2_block2_2_conv': <tensorflow.python.keras.layers.convolutional.Conv2D object at 0x7f8030266ef0>, 'conv2_block2_2_bn': <tensorflow.python.keras.layers.normalization_v2.BatchNormalization object at 0x7f803020a748>, 'conv2_block2_2_relu': <tensorflow.python.keras.layers.core.Activation object at 0x7f803020ae10>, 'conv2_block2_3_conv': <tensorflow.python.keras.layers.convolutional.Conv2D object at 0x7f803020a3c8>, 'conv2_block2_3_bn': <tensorflow.python.keras.layers.normalization_v2.BatchNormalization object at 0x7f803022b630>, 'conv2_block2_add': <tensorflow.python.keras.layers.merge.Add object at 0x7f803022bc88>, 'conv2_block2_out': <tensorflow.python.keras.layers.core.Activation object at 0x7f803022b2b0>, 'conv2_block3_1_conv': <tensorflow.python.keras.layers.convolutional.Conv2D object at 0x7f80301c6ac8>, 'conv2_block3_1_bn': <tensorflow.python.keras.layers.normalization_v2.BatchNormalization object at 0x7f80301cc7f0>, 'conv2_block3_1_relu': <tensorflow.python.keras.layers.core.Activation object at 0x7f80301cce80>, 'conv2_block3_2_conv': <tensorflow.python.keras.layers.convolutional.Conv2D object at 0x7f80301cce48>, 'conv2_block3_2_bn': <tensorflow.python.keras.layers.normalization_v2.BatchNormalization object at 0x7f80301ee6a0>, 'conv2_block3_2_relu': <tensorflow.python.keras.layers.core.Activation object at 0x7f80301eed68>, 'conv2_block3_3_conv': <tensorflow.python.keras.layers.convolutional.Conv2D object at 0x7f80301ee320>, 'conv2_block3_3_bn': <tensorflow.python.keras.layers.normalization_v2.BatchNormalization object at 0x7f803018e588>, 'conv2_block3_add': <tensorflow.python.keras.layers.merge.Add object at 0x7f803018ebe0>, 'conv2_block3_out': <tensorflow.python.keras.layers.core.Activation object at 0x7f803018e208>, 'conv3_block1_1_conv': <tensorflow.python.keras.layers.convolutional.Conv2D object at 0x7f80301b2d68>, 'conv3_block1_1_bn': <tensorflow.python.keras.layers.normalization_v2.BatchNormalization object at 0x7f803014db38>, 'conv3_block1_1_relu': <tensorflow.python.keras.layers.core.Activation object at 0x7f8030153a58>, 'conv3_block1_2_conv': <tensorflow.python.keras.layers.convolutional.Conv2D object at 0x7f80301538d0>, 'conv3_block1_2_bn': <tensorflow.python.keras.layers.normalization_v2.BatchNormalization object at 0x7f8030174278>, 'conv3_block1_2_relu': <tensorflow.python.keras.layers.core.Activation object at 0x7f8030174940>, 'conv3_block1_0_conv': <tensorflow.python.keras.layers.convolutional.Conv2D object at 0x7f80301aba20>, 'conv3_block1_3_conv': <tensorflow.python.keras.layers.convolutional.Conv2D object at 0x7f8030174b00>, 'conv3_block1_0_bn': <tensorflow.python.keras.layers.normalization_v2.BatchNormalization object at 0x7f80301b2748>, 'conv3_block1_3_bn': <tensorflow.python.keras.layers.normalization_v2.BatchNormalization object at 0x7f8030114160>, 'conv3_block1_add': <tensorflow.python.keras.layers.merge.Add object at 0x7f80301147b8>, 'conv3_block1_out': <tensorflow.python.keras.layers.core.Activation object at 0x7f8030114748>, 'conv3_block2_1_conv': <tensorflow.python.keras.layers.convolutional.Conv2D object at 0x7f8030132c88>, 'conv3_block2_1_bn': <tensorflow.python.keras.layers.normalization_v2.BatchNormalization object at 0x7f8030136320>, 'conv3_block2_1_relu': <tensorflow.python.keras.layers.core.Activation object at 0x7f80301369b0>, 'conv3_block2_2_conv': <tensorflow.python.keras.layers.convolutional.Conv2D object at 0x7f8030136b70>, 'conv3_block2_2_bn': <tensorflow.python.keras.layers.normalization_v2.BatchNormalization object at 0x7f80300d81d0>, 'conv3_block2_2_relu': <tensorflow.python.keras.layers.core.Activation object at 0x7f80300d8898>, 'conv3_block2_3_conv': <tensorflow.python.keras.layers.convolutional.Conv2D object at 0x7f80300d8a58>, 'conv3_block2_3_bn': <tensorflow.python.keras.layers.normalization_v2.BatchNormalization object at 0x7f804b153208>, 'conv3_block2_add': <tensorflow.python.keras.layers.merge.Add object at 0x7f804b153860>, 'conv3_block2_out': <tensorflow.python.keras.layers.core.Activation object at 0x7f804b1537f0>, 'conv3_block3_1_conv': <tensorflow.python.keras.layers.convolutional.Conv2D object at 0x7f80300f6d30>, 'conv3_block3_1_bn': <tensorflow.python.keras.layers.normalization_v2.BatchNormalization object at 0x7f80300fb3c8>, 'conv3_block3_1_relu': <tensorflow.python.keras.layers.core.Activation object at 0x7f80300fba58>, 'conv3_block3_2_conv': <tensorflow.python.keras.layers.convolutional.Conv2D object at 0x7f80300fb320>, 'conv3_block3_2_bn': <tensorflow.python.keras.layers.normalization_v2.BatchNormalization object at 0x7f80300a1278>, 'conv3_block3_2_relu': <tensorflow.python.keras.layers.core.Activation object at 0x7f80300a1940>, 'conv3_block3_3_conv': <tensorflow.python.keras.layers.convolutional.Conv2D object at 0x7f80300a1b00>, 'conv3_block3_3_bn': <tensorflow.python.keras.layers.normalization_v2.BatchNormalization object at 0x7f80300c0160>, 'conv3_block3_add': <tensorflow.python.keras.layers.merge.Add object at 0x7f80300c07b8>, 'conv3_block3_out': <tensorflow.python.keras.layers.core.Activation object at 0x7f80300c0748>, 'conv3_block4_1_conv': <tensorflow.python.keras.layers.convolutional.Conv2D object at 0x7f803005dc88>, 'conv3_block4_1_bn': <tensorflow.python.keras.layers.normalization_v2.BatchNormalization object at 0x7f8030060320>, 'conv3_block4_1_relu': <tensorflow.python.keras.layers.core.Activation object at 0x7f80300609b0>, 'conv3_block4_2_conv': <tensorflow.python.keras.layers.convolutional.Conv2D object at 0x7f8030060b70>, 'conv3_block4_2_bn': <tensorflow.python.keras.layers.normalization_v2.BatchNormalization object at 0x7f80300071d0>, 'conv3_block4_2_relu': <tensorflow.python.keras.layers.core.Activation object at 0x7f8030007898>, 'conv3_block4_3_conv': <tensorflow.python.keras.layers.convolutional.Conv2D object at 0x7f8030007a58>, 'conv3_block4_3_bn': <tensorflow.python.keras.layers.normalization_v2.BatchNormalization object at 0x7f80300270b8>, 'conv3_block4_add': <tensorflow.python.keras.layers.merge.Add object at 0x7f8030027710>, 'conv3_block4_out': <tensorflow.python.keras.layers.core.Activation object at 0x7f80300276a0>, 'conv4_block1_1_conv': <tensorflow.python.keras.layers.convolutional.Conv2D object at 0x7f801c7bd898>, 'conv4_block1_1_bn': <tensorflow.python.keras.layers.normalization_v2.BatchNormalization object at 0x7f801c7dc6d8>, 'conv4_block1_1_relu': <tensorflow.python.keras.layers.core.Activation object at 0x7f801c7e1588>, 'conv4_block1_2_conv': <tensorflow.python.keras.layers.convolutional.Conv2D object at 0x7f801c7e1748>, 'conv4_block1_2_bn': <tensorflow.python.keras.layers.normalization_v2.BatchNormalization object at 0x7f801c7f7d68>, 'conv4_block1_2_relu': <tensorflow.python.keras.layers.core.Activation object at 0x7f801c780470>, 'conv4_block1_0_conv': <tensorflow.python.keras.layers.convolutional.Conv2D object at 0x7f8030043be0>, 'conv4_block1_3_conv': <tensorflow.python.keras.layers.convolutional.Conv2D object at 0x7f801c780630>, 'conv4_block1_0_bn': <tensorflow.python.keras.layers.normalization_v2.BatchNormalization object at 0x7f801c7bd278>, 'conv4_block1_3_bn': <tensorflow.python.keras.layers.normalization_v2.BatchNormalization object at 0x7f801c79fc50>, 'conv4_block1_add': <tensorflow.python.keras.layers.merge.Add object at 0x7f801c7a4080>, 'conv4_block1_out': <tensorflow.python.keras.layers.core.Activation object at 0x7f801c7a4358>, 'conv4_block2_1_conv': <tensorflow.python.keras.layers.convolutional.Conv2D object at 0x7f801c739fd0>, 'conv4_block2_1_bn': <tensorflow.python.keras.layers.normalization_v2.BatchNormalization object at 0x7f801c740e10>, 'conv4_block2_1_relu': <tensorflow.python.keras.layers.core.Activation object at 0x7f801c7454e0>, 'conv4_block2_2_conv': <tensorflow.python.keras.layers.convolutional.Conv2D object at 0x7f801c7456a0>, 'conv4_block2_2_bn': <tensorflow.python.keras.layers.normalization_v2.BatchNormalization object at 0x7f801c762cc0>, 'conv4_block2_2_relu': <tensorflow.python.keras.layers.core.Activation object at 0x7f801c7673c8>, 'conv4_block2_3_conv': <tensorflow.python.keras.layers.convolutional.Conv2D object at 0x7f801c767588>, 'conv4_block2_3_bn': <tensorflow.python.keras.layers.normalization_v2.BatchNormalization object at 0x7f801c705ba8>, 'conv4_block2_add': <tensorflow.python.keras.layers.merge.Add object at 0x7f801c705f98>, 'conv4_block2_out': <tensorflow.python.keras.layers.core.Activation object at 0x7f801c709128>, 'conv4_block3_1_conv': <tensorflow.python.keras.layers.convolutional.Conv2D object at 0x7f801c717f28>, 'conv4_block3_1_bn': <tensorflow.python.keras.layers.normalization_v2.BatchNormalization object at 0x7f801c725d68>, 'conv4_block3_1_relu': <tensorflow.python.keras.layers.core.Activation object at 0x7f801c72b438>, 'conv4_block3_2_conv': <tensorflow.python.keras.layers.convolutional.Conv2D object at 0x7f801c72b5f8>, 'conv4_block3_2_bn': <tensorflow.python.keras.layers.normalization_v2.BatchNormalization object at 0x7f801c6c9c18>, 'conv4_block3_2_relu': <tensorflow.python.keras.layers.core.Activation object at 0x7f801c6c9f60>, 'conv4_block3_3_conv': <tensorflow.python.keras.layers.convolutional.Conv2D object at 0x7f801c6cd4e0>, 'conv4_block3_3_bn': <tensorflow.python.keras.layers.normalization_v2.BatchNormalization object at 0x7f801c6e9b00>, 'conv4_block3_add': <tensorflow.python.keras.layers.merge.Add object at 0x7f801c6e9e48>, 'conv4_block3_out': <tensorflow.python.keras.layers.core.Activation object at 0x7f801c6f0f98>, 'conv4_block4_1_conv': <tensorflow.python.keras.layers.convolutional.Conv2D object at 0x7f801c685eb8>, 'conv4_block4_1_bn': <tensorflow.python.keras.layers.normalization_v2.BatchNormalization object at 0x7f801c68bcc0>, 'conv4_block4_1_relu': <tensorflow.python.keras.layers.core.Activation object at 0x7f801c6913c8>, 'conv4_block4_2_conv': <tensorflow.python.keras.layers.convolutional.Conv2D object at 0x7f801c691550>, 'conv4_block4_2_bn': <tensorflow.python.keras.layers.normalization_v2.BatchNormalization object at 0x7f801c6b0b70>, 'conv4_block4_2_relu': <tensorflow.python.keras.layers.core.Activation object at 0x7f801c6b0eb8>, 'conv4_block4_3_conv': <tensorflow.python.keras.layers.convolutional.Conv2D object at 0x7f801c6b5438>, 'conv4_block4_3_bn': <tensorflow.python.keras.layers.normalization_v2.BatchNormalization object at 0x7f801c650a58>, 'conv4_block4_add': <tensorflow.python.keras.layers.merge.Add object at 0x7f801c650da0>, 'conv4_block4_out': <tensorflow.python.keras.layers.core.Activation object at 0x7f801c654e80>, 'conv4_block5_1_conv': <tensorflow.python.keras.layers.convolutional.Conv2D object at 0x7f801c66aef0>, 'conv4_block5_1_bn': <tensorflow.python.keras.layers.normalization_v2.BatchNormalization object at 0x7f801c673c18>, 'conv4_block5_1_relu': <tensorflow.python.keras.layers.core.Activation object at 0x7f801c673f28>, 'conv4_block5_2_conv': <tensorflow.python.keras.layers.convolutional.Conv2D object at 0x7f801c6774a8>, 'conv4_block5_2_bn': <tensorflow.python.keras.layers.normalization_v2.BatchNormalization object at 0x7f801c616ac8>, 'conv4_block5_2_relu': <tensorflow.python.keras.layers.core.Activation object at 0x7f801c616eb8>, 'conv4_block5_3_conv': <tensorflow.python.keras.layers.convolutional.Conv2D object at 0x7f801c61c390>, 'conv4_block5_3_bn': <tensorflow.python.keras.layers.normalization_v2.BatchNormalization object at 0x7f801c6379b0>, 'conv4_block5_add': <tensorflow.python.keras.layers.merge.Add object at 0x7f801c637d68>, 'conv4_block5_out': <tensorflow.python.keras.layers.core.Activation object at 0x7f801c637da0>, 'conv4_block6_1_conv': <tensorflow.python.keras.layers.convolutional.Conv2D object at 0x7f801c5d3e48>, 'conv4_block6_1_bn': <tensorflow.python.keras.layers.normalization_v2.BatchNormalization object at 0x7f801c5d8b70>, 'conv4_block6_1_relu': <tensorflow.python.keras.layers.core.Activation object at 0x7f801c5d8e80>, 'conv4_block6_2_conv': <tensorflow.python.keras.layers.convolutional.Conv2D object at 0x7f801c5dd400>, 'conv4_block6_2_bn': <tensorflow.python.keras.layers.normalization_v2.BatchNormalization object at 0x7f801c57ca20>, 'conv4_block6_2_relu': <tensorflow.python.keras.layers.core.Activation object at 0x7f801c57ce10>, 'conv4_block6_3_conv': <tensorflow.python.keras.layers.convolutional.Conv2D object at 0x7f801c583128>, 'conv4_block6_3_bn': <tensorflow.python.keras.layers.normalization_v2.BatchNormalization object at 0x7f801c59d908>, 'conv4_block6_add': <tensorflow.python.keras.layers.merge.Add object at 0x7f801c59def0>, 'conv4_block6_out': <tensorflow.python.keras.layers.core.Activation object at 0x7f801c59df28>, 'conv5_block1_1_conv': <tensorflow.python.keras.layers.convolutional.Conv2D object at 0x7f801c53fdd8>, 'conv5_block1_1_bn': <tensorflow.python.keras.layers.normalization_v2.BatchNormalization object at 0x7f801c55aeb8>, 'conv5_block1_1_relu': <tensorflow.python.keras.layers.core.Activation object at 0x7f801c561dd8>, 'conv5_block1_2_conv': <tensorflow.python.keras.layers.convolutional.Conv2D object at 0x7f801c561c50>, 'conv5_block1_2_bn': <tensorflow.python.keras.layers.normalization_v2.BatchNormalization object at 0x7f801c5035f8>, 'conv5_block1_2_relu': <tensorflow.python.keras.layers.core.Activation object at 0x7f801c503cc0>, 'conv5_block1_0_conv': <tensorflow.python.keras.layers.convolutional.Conv2D object at 0x7f801c5b8da0>, 'conv5_block1_3_conv': <tensorflow.python.keras.layers.convolutional.Conv2D object at 0x7f801c503278>, 'conv5_block1_0_bn': <tensorflow.python.keras.layers.normalization_v2.BatchNormalization object at 0x7f801c53fac8>, 'conv5_block1_3_bn': <tensorflow.python.keras.layers.normalization_v2.BatchNormalization object at 0x7f801c5254e0>, 'conv5_block1_add': <tensorflow.python.keras.layers.merge.Add object at 0x7f801c525b38>, 'conv5_block1_out': <tensorflow.python.keras.layers.core.Activation object at 0x7f801c525160>, 'conv5_block2_1_conv': <tensorflow.python.keras.layers.convolutional.Conv2D object at 0x7f801c4be978>, 'conv5_block2_1_bn': <tensorflow.python.keras.layers.normalization_v2.BatchNormalization object at 0x7f801c4c46a0>, 'conv5_block2_1_relu': <tensorflow.python.keras.layers.core.Activation object at 0x7f801c4c4d30>, 'conv5_block2_2_conv': <tensorflow.python.keras.layers.convolutional.Conv2D object at 0x7f801c4c45f8>, 'conv5_block2_2_bn': <tensorflow.python.keras.layers.normalization_v2.BatchNormalization object at 0x7f801c4e8550>, 'conv5_block2_2_relu': <tensorflow.python.keras.layers.core.Activation object at 0x7f801c4e8c18>, 'conv5_block2_3_conv': <tensorflow.python.keras.layers.convolutional.Conv2D object at 0x7f801c4e81d0>, 'conv5_block2_3_bn': <tensorflow.python.keras.layers.normalization_v2.BatchNormalization object at 0x7f801c48c438>, 'conv5_block2_add': <tensorflow.python.keras.layers.merge.Add object at 0x7f801c48ca90>, 'conv5_block2_out': <tensorflow.python.keras.layers.core.Activation object at 0x7f801c48c0b8>, 'conv5_block3_1_conv': <tensorflow.python.keras.layers.convolutional.Conv2D object at 0x7f801c4a6f60>, 'conv5_block3_1_bn': <tensorflow.python.keras.layers.normalization_v2.BatchNormalization object at 0x7f801c4ab5f8>, 'conv5_block3_1_relu': <tensorflow.python.keras.layers.core.Activation object at 0x7f801c4abc88>, 'conv5_block3_2_conv': <tensorflow.python.keras.layers.convolutional.Conv2D object at 0x7f801c4ab550>, 'conv5_block3_2_bn': <tensorflow.python.keras.layers.normalization_v2.BatchNormalization object at 0x7f801c44e4a8>, 'conv5_block3_2_relu': <tensorflow.python.keras.layers.core.Activation object at 0x7f801c44eb70>, 'conv5_block3_3_conv': <tensorflow.python.keras.layers.convolutional.Conv2D object at 0x7f801c44e128>, 'conv5_block3_3_bn': <tensorflow.python.keras.layers.normalization_v2.BatchNormalization object at 0x7f801c472390>, 'conv5_block3_add': <tensorflow.python.keras.layers.merge.Add object at 0x7f801c4729e8>, 'conv5_block3_out': <tensorflow.python.keras.layers.core.Activation object at 0x7f801c4728d0>}\n"
     ]
    }
   ],
   "source": [
    "#define the dictionary of layers\n",
    "layer_dict = dict([(layer.name, layer) for layer in base_model.layers])\n",
    "print(layer_dict)"
   ]
  },
  {
   "cell_type": "code",
   "execution_count": 14,
   "metadata": {},
   "outputs": [
    {
     "name": "stdout",
     "output_type": "stream",
     "text": [
      "Model loaded.\n",
      "Model: \"functional_1\"\n",
      "__________________________________________________________________________________________________\n",
      "Layer (type)                    Output Shape         Param #     Connected to                     \n",
      "==================================================================================================\n",
      "input_2 (InputLayer)            [(None, 224, 224, 3) 0                                            \n",
      "__________________________________________________________________________________________________\n",
      "conv1_pad (ZeroPadding2D)       (None, 230, 230, 3)  0           input_2[0][0]                    \n",
      "__________________________________________________________________________________________________\n",
      "conv1_conv (Conv2D)             (None, 112, 112, 64) 9472        conv1_pad[0][0]                  \n",
      "__________________________________________________________________________________________________\n",
      "conv1_bn (BatchNormalization)   (None, 112, 112, 64) 256         conv1_conv[0][0]                 \n",
      "__________________________________________________________________________________________________\n",
      "conv1_relu (Activation)         (None, 112, 112, 64) 0           conv1_bn[0][0]                   \n",
      "__________________________________________________________________________________________________\n",
      "pool1_pad (ZeroPadding2D)       (None, 114, 114, 64) 0           conv1_relu[0][0]                 \n",
      "__________________________________________________________________________________________________\n",
      "pool1_pool (MaxPooling2D)       (None, 56, 56, 64)   0           pool1_pad[0][0]                  \n",
      "__________________________________________________________________________________________________\n",
      "conv2_block1_1_conv (Conv2D)    (None, 56, 56, 64)   4160        pool1_pool[0][0]                 \n",
      "__________________________________________________________________________________________________\n",
      "conv2_block1_1_bn (BatchNormali (None, 56, 56, 64)   256         conv2_block1_1_conv[0][0]        \n",
      "__________________________________________________________________________________________________\n",
      "conv2_block1_1_relu (Activation (None, 56, 56, 64)   0           conv2_block1_1_bn[0][0]          \n",
      "__________________________________________________________________________________________________\n",
      "conv2_block1_2_conv (Conv2D)    (None, 56, 56, 64)   36928       conv2_block1_1_relu[0][0]        \n",
      "__________________________________________________________________________________________________\n",
      "conv2_block1_2_bn (BatchNormali (None, 56, 56, 64)   256         conv2_block1_2_conv[0][0]        \n",
      "__________________________________________________________________________________________________\n",
      "conv2_block1_2_relu (Activation (None, 56, 56, 64)   0           conv2_block1_2_bn[0][0]          \n",
      "__________________________________________________________________________________________________\n",
      "conv2_block1_0_conv (Conv2D)    (None, 56, 56, 256)  16640       pool1_pool[0][0]                 \n",
      "__________________________________________________________________________________________________\n",
      "conv2_block1_3_conv (Conv2D)    (None, 56, 56, 256)  16640       conv2_block1_2_relu[0][0]        \n",
      "__________________________________________________________________________________________________\n",
      "conv2_block1_0_bn (BatchNormali (None, 56, 56, 256)  1024        conv2_block1_0_conv[0][0]        \n",
      "__________________________________________________________________________________________________\n",
      "conv2_block1_3_bn (BatchNormali (None, 56, 56, 256)  1024        conv2_block1_3_conv[0][0]        \n",
      "__________________________________________________________________________________________________\n",
      "conv2_block1_add (Add)          (None, 56, 56, 256)  0           conv2_block1_0_bn[0][0]          \n",
      "                                                                 conv2_block1_3_bn[0][0]          \n",
      "__________________________________________________________________________________________________\n",
      "conv2_block1_out (Activation)   (None, 56, 56, 256)  0           conv2_block1_add[0][0]           \n",
      "__________________________________________________________________________________________________\n",
      "conv2_block2_1_conv (Conv2D)    (None, 56, 56, 64)   16448       conv2_block1_out[0][0]           \n",
      "__________________________________________________________________________________________________\n",
      "conv2_block2_1_bn (BatchNormali (None, 56, 56, 64)   256         conv2_block2_1_conv[0][0]        \n",
      "__________________________________________________________________________________________________\n",
      "conv2_block2_1_relu (Activation (None, 56, 56, 64)   0           conv2_block2_1_bn[0][0]          \n",
      "__________________________________________________________________________________________________\n",
      "conv2_block2_2_conv (Conv2D)    (None, 56, 56, 64)   36928       conv2_block2_1_relu[0][0]        \n",
      "__________________________________________________________________________________________________\n",
      "conv2_block2_2_bn (BatchNormali (None, 56, 56, 64)   256         conv2_block2_2_conv[0][0]        \n",
      "__________________________________________________________________________________________________\n",
      "conv2_block2_2_relu (Activation (None, 56, 56, 64)   0           conv2_block2_2_bn[0][0]          \n",
      "__________________________________________________________________________________________________\n",
      "conv2_block2_3_conv (Conv2D)    (None, 56, 56, 256)  16640       conv2_block2_2_relu[0][0]        \n",
      "__________________________________________________________________________________________________\n",
      "conv2_block2_3_bn (BatchNormali (None, 56, 56, 256)  1024        conv2_block2_3_conv[0][0]        \n",
      "__________________________________________________________________________________________________\n",
      "conv2_block2_add (Add)          (None, 56, 56, 256)  0           conv2_block1_out[0][0]           \n",
      "                                                                 conv2_block2_3_bn[0][0]          \n",
      "__________________________________________________________________________________________________\n",
      "conv2_block2_out (Activation)   (None, 56, 56, 256)  0           conv2_block2_add[0][0]           \n",
      "__________________________________________________________________________________________________\n",
      "conv2_block3_1_conv (Conv2D)    (None, 56, 56, 64)   16448       conv2_block2_out[0][0]           \n",
      "__________________________________________________________________________________________________\n",
      "conv2_block3_1_bn (BatchNormali (None, 56, 56, 64)   256         conv2_block3_1_conv[0][0]        \n",
      "__________________________________________________________________________________________________\n",
      "conv2_block3_1_relu (Activation (None, 56, 56, 64)   0           conv2_block3_1_bn[0][0]          \n",
      "__________________________________________________________________________________________________\n",
      "conv2_block3_2_conv (Conv2D)    (None, 56, 56, 64)   36928       conv2_block3_1_relu[0][0]        \n",
      "__________________________________________________________________________________________________\n",
      "conv2_block3_2_bn (BatchNormali (None, 56, 56, 64)   256         conv2_block3_2_conv[0][0]        \n",
      "__________________________________________________________________________________________________\n",
      "conv2_block3_2_relu (Activation (None, 56, 56, 64)   0           conv2_block3_2_bn[0][0]          \n",
      "__________________________________________________________________________________________________\n",
      "conv2_block3_3_conv (Conv2D)    (None, 56, 56, 256)  16640       conv2_block3_2_relu[0][0]        \n",
      "__________________________________________________________________________________________________\n",
      "conv2_block3_3_bn (BatchNormali (None, 56, 56, 256)  1024        conv2_block3_3_conv[0][0]        \n",
      "__________________________________________________________________________________________________\n",
      "conv2_block3_add (Add)          (None, 56, 56, 256)  0           conv2_block2_out[0][0]           \n",
      "                                                                 conv2_block3_3_bn[0][0]          \n",
      "__________________________________________________________________________________________________\n",
      "conv2_block3_out (Activation)   (None, 56, 56, 256)  0           conv2_block3_add[0][0]           \n",
      "__________________________________________________________________________________________________\n",
      "conv3_block1_1_conv (Conv2D)    (None, 28, 28, 128)  32896       conv2_block3_out[0][0]           \n",
      "__________________________________________________________________________________________________\n",
      "conv3_block1_1_bn (BatchNormali (None, 28, 28, 128)  512         conv3_block1_1_conv[0][0]        \n",
      "__________________________________________________________________________________________________\n",
      "conv3_block1_1_relu (Activation (None, 28, 28, 128)  0           conv3_block1_1_bn[0][0]          \n",
      "__________________________________________________________________________________________________\n",
      "conv3_block1_2_conv (Conv2D)    (None, 28, 28, 128)  147584      conv3_block1_1_relu[0][0]        \n",
      "__________________________________________________________________________________________________\n",
      "conv3_block1_2_bn (BatchNormali (None, 28, 28, 128)  512         conv3_block1_2_conv[0][0]        \n",
      "__________________________________________________________________________________________________\n",
      "conv3_block1_2_relu (Activation (None, 28, 28, 128)  0           conv3_block1_2_bn[0][0]          \n",
      "__________________________________________________________________________________________________\n",
      "conv3_block1_0_conv (Conv2D)    (None, 28, 28, 512)  131584      conv2_block3_out[0][0]           \n",
      "__________________________________________________________________________________________________\n",
      "conv3_block1_3_conv (Conv2D)    (None, 28, 28, 512)  66048       conv3_block1_2_relu[0][0]        \n",
      "__________________________________________________________________________________________________\n",
      "conv3_block1_0_bn (BatchNormali (None, 28, 28, 512)  2048        conv3_block1_0_conv[0][0]        \n",
      "__________________________________________________________________________________________________\n",
      "conv3_block1_3_bn (BatchNormali (None, 28, 28, 512)  2048        conv3_block1_3_conv[0][0]        \n",
      "__________________________________________________________________________________________________\n",
      "conv3_block1_add (Add)          (None, 28, 28, 512)  0           conv3_block1_0_bn[0][0]          \n",
      "                                                                 conv3_block1_3_bn[0][0]          \n",
      "__________________________________________________________________________________________________\n",
      "conv3_block1_out (Activation)   (None, 28, 28, 512)  0           conv3_block1_add[0][0]           \n",
      "__________________________________________________________________________________________________\n",
      "conv3_block2_1_conv (Conv2D)    (None, 28, 28, 128)  65664       conv3_block1_out[0][0]           \n",
      "__________________________________________________________________________________________________\n",
      "conv3_block2_1_bn (BatchNormali (None, 28, 28, 128)  512         conv3_block2_1_conv[0][0]        \n",
      "__________________________________________________________________________________________________\n",
      "conv3_block2_1_relu (Activation (None, 28, 28, 128)  0           conv3_block2_1_bn[0][0]          \n",
      "__________________________________________________________________________________________________\n",
      "conv3_block2_2_conv (Conv2D)    (None, 28, 28, 128)  147584      conv3_block2_1_relu[0][0]        \n",
      "__________________________________________________________________________________________________\n",
      "conv3_block2_2_bn (BatchNormali (None, 28, 28, 128)  512         conv3_block2_2_conv[0][0]        \n",
      "__________________________________________________________________________________________________\n",
      "conv3_block2_2_relu (Activation (None, 28, 28, 128)  0           conv3_block2_2_bn[0][0]          \n",
      "__________________________________________________________________________________________________\n",
      "conv3_block2_3_conv (Conv2D)    (None, 28, 28, 512)  66048       conv3_block2_2_relu[0][0]        \n",
      "__________________________________________________________________________________________________\n",
      "conv3_block2_3_bn (BatchNormali (None, 28, 28, 512)  2048        conv3_block2_3_conv[0][0]        \n",
      "__________________________________________________________________________________________________\n",
      "conv3_block2_add (Add)          (None, 28, 28, 512)  0           conv3_block1_out[0][0]           \n",
      "                                                                 conv3_block2_3_bn[0][0]          \n",
      "__________________________________________________________________________________________________\n",
      "conv3_block2_out (Activation)   (None, 28, 28, 512)  0           conv3_block2_add[0][0]           \n",
      "__________________________________________________________________________________________________\n",
      "conv3_block3_1_conv (Conv2D)    (None, 28, 28, 128)  65664       conv3_block2_out[0][0]           \n",
      "__________________________________________________________________________________________________\n",
      "conv3_block3_1_bn (BatchNormali (None, 28, 28, 128)  512         conv3_block3_1_conv[0][0]        \n",
      "__________________________________________________________________________________________________\n",
      "conv3_block3_1_relu (Activation (None, 28, 28, 128)  0           conv3_block3_1_bn[0][0]          \n",
      "__________________________________________________________________________________________________\n",
      "conv3_block3_2_conv (Conv2D)    (None, 28, 28, 128)  147584      conv3_block3_1_relu[0][0]        \n",
      "__________________________________________________________________________________________________\n",
      "conv3_block3_2_bn (BatchNormali (None, 28, 28, 128)  512         conv3_block3_2_conv[0][0]        \n",
      "__________________________________________________________________________________________________\n",
      "conv3_block3_2_relu (Activation (None, 28, 28, 128)  0           conv3_block3_2_bn[0][0]          \n",
      "__________________________________________________________________________________________________\n",
      "conv3_block3_3_conv (Conv2D)    (None, 28, 28, 512)  66048       conv3_block3_2_relu[0][0]        \n",
      "__________________________________________________________________________________________________\n",
      "conv3_block3_3_bn (BatchNormali (None, 28, 28, 512)  2048        conv3_block3_3_conv[0][0]        \n",
      "__________________________________________________________________________________________________\n",
      "conv3_block3_add (Add)          (None, 28, 28, 512)  0           conv3_block2_out[0][0]           \n",
      "                                                                 conv3_block3_3_bn[0][0]          \n",
      "__________________________________________________________________________________________________\n",
      "conv3_block3_out (Activation)   (None, 28, 28, 512)  0           conv3_block3_add[0][0]           \n",
      "__________________________________________________________________________________________________\n",
      "conv3_block4_1_conv (Conv2D)    (None, 28, 28, 128)  65664       conv3_block3_out[0][0]           \n",
      "__________________________________________________________________________________________________\n",
      "conv3_block4_1_bn (BatchNormali (None, 28, 28, 128)  512         conv3_block4_1_conv[0][0]        \n",
      "__________________________________________________________________________________________________\n",
      "conv3_block4_1_relu (Activation (None, 28, 28, 128)  0           conv3_block4_1_bn[0][0]          \n",
      "__________________________________________________________________________________________________\n",
      "conv3_block4_2_conv (Conv2D)    (None, 28, 28, 128)  147584      conv3_block4_1_relu[0][0]        \n",
      "__________________________________________________________________________________________________\n",
      "conv3_block4_2_bn (BatchNormali (None, 28, 28, 128)  512         conv3_block4_2_conv[0][0]        \n",
      "__________________________________________________________________________________________________\n",
      "conv3_block4_2_relu (Activation (None, 28, 28, 128)  0           conv3_block4_2_bn[0][0]          \n",
      "__________________________________________________________________________________________________\n",
      "conv3_block4_3_conv (Conv2D)    (None, 28, 28, 512)  66048       conv3_block4_2_relu[0][0]        \n",
      "__________________________________________________________________________________________________\n",
      "conv3_block4_3_bn (BatchNormali (None, 28, 28, 512)  2048        conv3_block4_3_conv[0][0]        \n",
      "__________________________________________________________________________________________________\n",
      "conv3_block4_add (Add)          (None, 28, 28, 512)  0           conv3_block3_out[0][0]           \n",
      "                                                                 conv3_block4_3_bn[0][0]          \n",
      "__________________________________________________________________________________________________\n",
      "conv3_block4_out (Activation)   (None, 28, 28, 512)  0           conv3_block4_add[0][0]           \n",
      "__________________________________________________________________________________________________\n",
      "conv4_block1_1_conv (Conv2D)    (None, 14, 14, 256)  131328      conv3_block4_out[0][0]           \n",
      "__________________________________________________________________________________________________\n",
      "conv4_block1_1_bn (BatchNormali (None, 14, 14, 256)  1024        conv4_block1_1_conv[0][0]        \n",
      "__________________________________________________________________________________________________\n",
      "conv4_block1_1_relu (Activation (None, 14, 14, 256)  0           conv4_block1_1_bn[0][0]          \n",
      "__________________________________________________________________________________________________\n",
      "conv4_block1_2_conv (Conv2D)    (None, 14, 14, 256)  590080      conv4_block1_1_relu[0][0]        \n",
      "__________________________________________________________________________________________________\n",
      "conv4_block1_2_bn (BatchNormali (None, 14, 14, 256)  1024        conv4_block1_2_conv[0][0]        \n",
      "__________________________________________________________________________________________________\n",
      "conv4_block1_2_relu (Activation (None, 14, 14, 256)  0           conv4_block1_2_bn[0][0]          \n",
      "__________________________________________________________________________________________________\n",
      "conv4_block1_0_conv (Conv2D)    (None, 14, 14, 1024) 525312      conv3_block4_out[0][0]           \n",
      "__________________________________________________________________________________________________\n",
      "conv4_block1_3_conv (Conv2D)    (None, 14, 14, 1024) 263168      conv4_block1_2_relu[0][0]        \n",
      "__________________________________________________________________________________________________\n",
      "conv4_block1_0_bn (BatchNormali (None, 14, 14, 1024) 4096        conv4_block1_0_conv[0][0]        \n",
      "__________________________________________________________________________________________________\n",
      "conv4_block1_3_bn (BatchNormali (None, 14, 14, 1024) 4096        conv4_block1_3_conv[0][0]        \n",
      "__________________________________________________________________________________________________\n",
      "conv4_block1_add (Add)          (None, 14, 14, 1024) 0           conv4_block1_0_bn[0][0]          \n",
      "                                                                 conv4_block1_3_bn[0][0]          \n",
      "__________________________________________________________________________________________________\n",
      "conv4_block1_out (Activation)   (None, 14, 14, 1024) 0           conv4_block1_add[0][0]           \n",
      "__________________________________________________________________________________________________\n",
      "conv4_block2_1_conv (Conv2D)    (None, 14, 14, 256)  262400      conv4_block1_out[0][0]           \n",
      "__________________________________________________________________________________________________\n",
      "conv4_block2_1_bn (BatchNormali (None, 14, 14, 256)  1024        conv4_block2_1_conv[0][0]        \n",
      "__________________________________________________________________________________________________\n",
      "conv4_block2_1_relu (Activation (None, 14, 14, 256)  0           conv4_block2_1_bn[0][0]          \n",
      "__________________________________________________________________________________________________\n",
      "conv4_block2_2_conv (Conv2D)    (None, 14, 14, 256)  590080      conv4_block2_1_relu[0][0]        \n",
      "__________________________________________________________________________________________________\n",
      "conv4_block2_2_bn (BatchNormali (None, 14, 14, 256)  1024        conv4_block2_2_conv[0][0]        \n",
      "__________________________________________________________________________________________________\n",
      "conv4_block2_2_relu (Activation (None, 14, 14, 256)  0           conv4_block2_2_bn[0][0]          \n",
      "__________________________________________________________________________________________________\n",
      "conv4_block2_3_conv (Conv2D)    (None, 14, 14, 1024) 263168      conv4_block2_2_relu[0][0]        \n",
      "__________________________________________________________________________________________________\n",
      "conv4_block2_3_bn (BatchNormali (None, 14, 14, 1024) 4096        conv4_block2_3_conv[0][0]        \n",
      "__________________________________________________________________________________________________\n",
      "conv4_block2_add (Add)          (None, 14, 14, 1024) 0           conv4_block1_out[0][0]           \n",
      "                                                                 conv4_block2_3_bn[0][0]          \n",
      "__________________________________________________________________________________________________\n",
      "conv4_block2_out (Activation)   (None, 14, 14, 1024) 0           conv4_block2_add[0][0]           \n",
      "__________________________________________________________________________________________________\n",
      "conv4_block3_1_conv (Conv2D)    (None, 14, 14, 256)  262400      conv4_block2_out[0][0]           \n",
      "__________________________________________________________________________________________________\n",
      "conv4_block3_1_bn (BatchNormali (None, 14, 14, 256)  1024        conv4_block3_1_conv[0][0]        \n",
      "__________________________________________________________________________________________________\n",
      "conv4_block3_1_relu (Activation (None, 14, 14, 256)  0           conv4_block3_1_bn[0][0]          \n",
      "__________________________________________________________________________________________________\n",
      "conv4_block3_2_conv (Conv2D)    (None, 14, 14, 256)  590080      conv4_block3_1_relu[0][0]        \n",
      "__________________________________________________________________________________________________\n",
      "conv4_block3_2_bn (BatchNormali (None, 14, 14, 256)  1024        conv4_block3_2_conv[0][0]        \n",
      "__________________________________________________________________________________________________\n",
      "conv4_block3_2_relu (Activation (None, 14, 14, 256)  0           conv4_block3_2_bn[0][0]          \n",
      "__________________________________________________________________________________________________\n",
      "conv4_block3_3_conv (Conv2D)    (None, 14, 14, 1024) 263168      conv4_block3_2_relu[0][0]        \n",
      "__________________________________________________________________________________________________\n",
      "conv4_block3_3_bn (BatchNormali (None, 14, 14, 1024) 4096        conv4_block3_3_conv[0][0]        \n",
      "__________________________________________________________________________________________________\n",
      "conv4_block3_add (Add)          (None, 14, 14, 1024) 0           conv4_block2_out[0][0]           \n",
      "                                                                 conv4_block3_3_bn[0][0]          \n",
      "__________________________________________________________________________________________________\n",
      "conv4_block3_out (Activation)   (None, 14, 14, 1024) 0           conv4_block3_add[0][0]           \n",
      "__________________________________________________________________________________________________\n",
      "conv4_block4_1_conv (Conv2D)    (None, 14, 14, 256)  262400      conv4_block3_out[0][0]           \n",
      "__________________________________________________________________________________________________\n",
      "conv4_block4_1_bn (BatchNormali (None, 14, 14, 256)  1024        conv4_block4_1_conv[0][0]        \n",
      "__________________________________________________________________________________________________\n",
      "conv4_block4_1_relu (Activation (None, 14, 14, 256)  0           conv4_block4_1_bn[0][0]          \n",
      "__________________________________________________________________________________________________\n",
      "conv4_block4_2_conv (Conv2D)    (None, 14, 14, 256)  590080      conv4_block4_1_relu[0][0]        \n",
      "__________________________________________________________________________________________________\n",
      "conv4_block4_2_bn (BatchNormali (None, 14, 14, 256)  1024        conv4_block4_2_conv[0][0]        \n",
      "__________________________________________________________________________________________________\n",
      "conv4_block4_2_relu (Activation (None, 14, 14, 256)  0           conv4_block4_2_bn[0][0]          \n",
      "__________________________________________________________________________________________________\n",
      "conv4_block4_3_conv (Conv2D)    (None, 14, 14, 1024) 263168      conv4_block4_2_relu[0][0]        \n",
      "__________________________________________________________________________________________________\n",
      "conv4_block4_3_bn (BatchNormali (None, 14, 14, 1024) 4096        conv4_block4_3_conv[0][0]        \n",
      "__________________________________________________________________________________________________\n",
      "conv4_block4_add (Add)          (None, 14, 14, 1024) 0           conv4_block3_out[0][0]           \n",
      "                                                                 conv4_block4_3_bn[0][0]          \n",
      "__________________________________________________________________________________________________\n",
      "conv4_block4_out (Activation)   (None, 14, 14, 1024) 0           conv4_block4_add[0][0]           \n",
      "__________________________________________________________________________________________________\n",
      "conv4_block5_1_conv (Conv2D)    (None, 14, 14, 256)  262400      conv4_block4_out[0][0]           \n",
      "__________________________________________________________________________________________________\n",
      "conv4_block5_1_bn (BatchNormali (None, 14, 14, 256)  1024        conv4_block5_1_conv[0][0]        \n",
      "__________________________________________________________________________________________________\n",
      "conv4_block5_1_relu (Activation (None, 14, 14, 256)  0           conv4_block5_1_bn[0][0]          \n",
      "__________________________________________________________________________________________________\n",
      "conv4_block5_2_conv (Conv2D)    (None, 14, 14, 256)  590080      conv4_block5_1_relu[0][0]        \n",
      "__________________________________________________________________________________________________\n",
      "conv4_block5_2_bn (BatchNormali (None, 14, 14, 256)  1024        conv4_block5_2_conv[0][0]        \n",
      "__________________________________________________________________________________________________\n",
      "conv4_block5_2_relu (Activation (None, 14, 14, 256)  0           conv4_block5_2_bn[0][0]          \n",
      "__________________________________________________________________________________________________\n",
      "conv4_block5_3_conv (Conv2D)    (None, 14, 14, 1024) 263168      conv4_block5_2_relu[0][0]        \n",
      "__________________________________________________________________________________________________\n",
      "conv4_block5_3_bn (BatchNormali (None, 14, 14, 1024) 4096        conv4_block5_3_conv[0][0]        \n",
      "__________________________________________________________________________________________________\n",
      "conv4_block5_add (Add)          (None, 14, 14, 1024) 0           conv4_block4_out[0][0]           \n",
      "                                                                 conv4_block5_3_bn[0][0]          \n",
      "__________________________________________________________________________________________________\n",
      "conv4_block5_out (Activation)   (None, 14, 14, 1024) 0           conv4_block5_add[0][0]           \n",
      "__________________________________________________________________________________________________\n",
      "conv4_block6_1_conv (Conv2D)    (None, 14, 14, 256)  262400      conv4_block5_out[0][0]           \n",
      "__________________________________________________________________________________________________\n",
      "conv4_block6_1_bn (BatchNormali (None, 14, 14, 256)  1024        conv4_block6_1_conv[0][0]        \n",
      "__________________________________________________________________________________________________\n",
      "conv4_block6_1_relu (Activation (None, 14, 14, 256)  0           conv4_block6_1_bn[0][0]          \n",
      "__________________________________________________________________________________________________\n",
      "conv4_block6_2_conv (Conv2D)    (None, 14, 14, 256)  590080      conv4_block6_1_relu[0][0]        \n",
      "__________________________________________________________________________________________________\n",
      "conv4_block6_2_bn (BatchNormali (None, 14, 14, 256)  1024        conv4_block6_2_conv[0][0]        \n",
      "__________________________________________________________________________________________________\n",
      "conv4_block6_2_relu (Activation (None, 14, 14, 256)  0           conv4_block6_2_bn[0][0]          \n",
      "__________________________________________________________________________________________________\n",
      "conv4_block6_3_conv (Conv2D)    (None, 14, 14, 1024) 263168      conv4_block6_2_relu[0][0]        \n",
      "__________________________________________________________________________________________________\n",
      "conv4_block6_3_bn (BatchNormali (None, 14, 14, 1024) 4096        conv4_block6_3_conv[0][0]        \n",
      "__________________________________________________________________________________________________\n",
      "conv4_block6_add (Add)          (None, 14, 14, 1024) 0           conv4_block5_out[0][0]           \n",
      "                                                                 conv4_block6_3_bn[0][0]          \n",
      "__________________________________________________________________________________________________\n",
      "conv4_block6_out (Activation)   (None, 14, 14, 1024) 0           conv4_block6_add[0][0]           \n",
      "__________________________________________________________________________________________________\n",
      "conv5_block1_1_conv (Conv2D)    (None, 7, 7, 512)    524800      conv4_block6_out[0][0]           \n",
      "__________________________________________________________________________________________________\n",
      "conv5_block1_1_bn (BatchNormali (None, 7, 7, 512)    2048        conv5_block1_1_conv[0][0]        \n",
      "__________________________________________________________________________________________________\n",
      "conv5_block1_1_relu (Activation (None, 7, 7, 512)    0           conv5_block1_1_bn[0][0]          \n",
      "__________________________________________________________________________________________________\n",
      "conv5_block1_2_conv (Conv2D)    (None, 7, 7, 512)    2359808     conv5_block1_1_relu[0][0]        \n",
      "__________________________________________________________________________________________________\n",
      "conv5_block1_2_bn (BatchNormali (None, 7, 7, 512)    2048        conv5_block1_2_conv[0][0]        \n",
      "__________________________________________________________________________________________________\n",
      "conv5_block1_2_relu (Activation (None, 7, 7, 512)    0           conv5_block1_2_bn[0][0]          \n",
      "__________________________________________________________________________________________________\n",
      "conv5_block1_0_conv (Conv2D)    (None, 7, 7, 2048)   2099200     conv4_block6_out[0][0]           \n",
      "__________________________________________________________________________________________________\n",
      "conv5_block1_3_conv (Conv2D)    (None, 7, 7, 2048)   1050624     conv5_block1_2_relu[0][0]        \n",
      "__________________________________________________________________________________________________\n",
      "conv5_block1_0_bn (BatchNormali (None, 7, 7, 2048)   8192        conv5_block1_0_conv[0][0]        \n",
      "__________________________________________________________________________________________________\n",
      "conv5_block1_3_bn (BatchNormali (None, 7, 7, 2048)   8192        conv5_block1_3_conv[0][0]        \n",
      "__________________________________________________________________________________________________\n",
      "conv5_block1_add (Add)          (None, 7, 7, 2048)   0           conv5_block1_0_bn[0][0]          \n",
      "                                                                 conv5_block1_3_bn[0][0]          \n",
      "__________________________________________________________________________________________________\n",
      "conv5_block1_out (Activation)   (None, 7, 7, 2048)   0           conv5_block1_add[0][0]           \n",
      "__________________________________________________________________________________________________\n",
      "conv5_block2_1_conv (Conv2D)    (None, 7, 7, 512)    1049088     conv5_block1_out[0][0]           \n",
      "__________________________________________________________________________________________________\n",
      "conv5_block2_1_bn (BatchNormali (None, 7, 7, 512)    2048        conv5_block2_1_conv[0][0]        \n",
      "__________________________________________________________________________________________________\n",
      "conv5_block2_1_relu (Activation (None, 7, 7, 512)    0           conv5_block2_1_bn[0][0]          \n",
      "__________________________________________________________________________________________________\n",
      "conv5_block2_2_conv (Conv2D)    (None, 7, 7, 512)    2359808     conv5_block2_1_relu[0][0]        \n",
      "__________________________________________________________________________________________________\n",
      "conv5_block2_2_bn (BatchNormali (None, 7, 7, 512)    2048        conv5_block2_2_conv[0][0]        \n",
      "__________________________________________________________________________________________________\n",
      "conv5_block2_2_relu (Activation (None, 7, 7, 512)    0           conv5_block2_2_bn[0][0]          \n",
      "__________________________________________________________________________________________________\n",
      "conv5_block2_3_conv (Conv2D)    (None, 7, 7, 2048)   1050624     conv5_block2_2_relu[0][0]        \n",
      "__________________________________________________________________________________________________\n",
      "conv5_block2_3_bn (BatchNormali (None, 7, 7, 2048)   8192        conv5_block2_3_conv[0][0]        \n",
      "__________________________________________________________________________________________________\n",
      "conv5_block2_add (Add)          (None, 7, 7, 2048)   0           conv5_block1_out[0][0]           \n",
      "                                                                 conv5_block2_3_bn[0][0]          \n",
      "__________________________________________________________________________________________________\n",
      "conv5_block2_out (Activation)   (None, 7, 7, 2048)   0           conv5_block2_add[0][0]           \n",
      "__________________________________________________________________________________________________\n",
      "conv5_block3_1_conv (Conv2D)    (None, 7, 7, 512)    1049088     conv5_block2_out[0][0]           \n",
      "__________________________________________________________________________________________________\n",
      "conv5_block3_1_bn (BatchNormali (None, 7, 7, 512)    2048        conv5_block3_1_conv[0][0]        \n",
      "__________________________________________________________________________________________________\n",
      "conv5_block3_1_relu (Activation (None, 7, 7, 512)    0           conv5_block3_1_bn[0][0]          \n",
      "__________________________________________________________________________________________________\n",
      "conv5_block3_2_conv (Conv2D)    (None, 7, 7, 512)    2359808     conv5_block3_1_relu[0][0]        \n",
      "__________________________________________________________________________________________________\n",
      "conv5_block3_2_bn (BatchNormali (None, 7, 7, 512)    2048        conv5_block3_2_conv[0][0]        \n",
      "__________________________________________________________________________________________________\n",
      "conv5_block3_2_relu (Activation (None, 7, 7, 512)    0           conv5_block3_2_bn[0][0]          \n",
      "__________________________________________________________________________________________________\n",
      "conv5_block3_3_conv (Conv2D)    (None, 7, 7, 2048)   1050624     conv5_block3_2_relu[0][0]        \n",
      "__________________________________________________________________________________________________\n",
      "conv5_block3_3_bn (BatchNormali (None, 7, 7, 2048)   8192        conv5_block3_3_conv[0][0]        \n",
      "__________________________________________________________________________________________________\n",
      "conv5_block3_add (Add)          (None, 7, 7, 2048)   0           conv5_block2_out[0][0]           \n",
      "                                                                 conv5_block3_3_bn[0][0]          \n",
      "__________________________________________________________________________________________________\n",
      "conv5_block3_out (Activation)   (None, 7, 7, 2048)   0           conv5_block3_add[0][0]           \n",
      "__________________________________________________________________________________________________\n",
      "global_average_pooling2d (Globa (None, 2048)         0           conv5_block3_out[0][0]           \n",
      "__________________________________________________________________________________________________\n",
      "dense (Dense)                   (None, 256)          524544      global_average_pooling2d[0][0]   \n",
      "__________________________________________________________________________________________________\n",
      "dense_1 (Dense)                 (None, 6)            1542        dense[0][0]                      \n",
      "==================================================================================================\n",
      "Total params: 24,113,798\n",
      "Trainable params: 24,060,678\n",
      "Non-trainable params: 53,120\n",
      "__________________________________________________________________________________________________\n"
     ]
    }
   ],
   "source": [
    "from tensorflow.keras.applications.resnet50 import ResNet50\n",
    "import tensorflow as tf\n",
    "from tensorflow.keras.models import Model,Sequential\n",
    "from tensorflow.keras.layers import Dense, GlobalAveragePooling2D, Dropout, MaxPooling2D\n",
    "\n",
    "METRICS = [\n",
    "      tf.keras.metrics.TruePositives(name='tp'),\n",
    "      tf.keras.metrics.FalsePositives(name='fp'),\n",
    "      tf.keras.metrics.TrueNegatives(name='tn'),\n",
    "      tf.keras.metrics.FalseNegatives(name='fn'), \n",
    "      tf.keras.metrics.BinaryAccuracy(name='accuracy'),\n",
    "      tf.keras.metrics.Precision(name='precision'),\n",
    "      tf.keras.metrics.Recall(name='recall'),\n",
    "      tf.keras.metrics.AUC(name='auc')\n",
    "      \n",
    "]\n",
    "\n",
    "\n",
    "# create the base pre-trained model\n",
    "\n",
    "base_model = ResNet50(weights='imagenet', include_top=False, input_shape=(224,224,3))\n",
    "print('Model loaded.')\n",
    "\n",
    "\n",
    "# add a global spatial average pooling layer\n",
    "x = base_model.output\n",
    "#net = MaxPooling2D(pool_size= (2,2), strides=(2,2),padding='same', name='pool')(x)\n",
    "x = GlobalAveragePooling2D()(x)\n",
    "net = Dense(256, activation='elu')(x)\n",
    "net = Dense(6, activation='sigmoid')(net)\n",
    "\n",
    "\n",
    "# this is the model we will train\n",
    "model = Model(inputs=base_model.input, outputs=net)\n",
    "\n",
    "\n",
    "\n",
    "# first: train only the top layers (which were randomly initialized)\n",
    "# i.e. freeze all convolutional InceptionV3 layers\n",
    "#for layer in base_model.layers:\n",
    "#    layer.trainable = False\n",
    "#for layer in base_model.layers[:20]:\n",
    "#    layer.trainable = False\n",
    "\n",
    "\n",
    "# compile the model (should be done *after* setting layers to non-trainable)\n",
    "model.compile(opt, loss='binary_crossentropy', metrics=METRICS)\n",
    "\n",
    "\n",
    "\n",
    "\n",
    "model.summary()"
   ]
  },
  {
   "cell_type": "markdown",
   "metadata": {},
   "source": [
    "# Callbacks"
   ]
  },
  {
   "cell_type": "code",
   "execution_count": 15,
   "metadata": {},
   "outputs": [
    {
     "name": "stdout",
     "output_type": "stream",
     "text": [
      "WARNING:tensorflow:`period` argument is deprecated. Please use `save_freq` to specify the frequency in number of batches seen.\n"
     ]
    }
   ],
   "source": [
    "from keras import backend as K\n",
    "\n",
    "from tensorflow.keras.callbacks import ModelCheckpoint\n",
    "\n",
    "\n",
    "checkpoint = tf.keras.callbacks.ModelCheckpoint('resnet50_brain_{epoch:08d}.h5', period=1,mode= 'auto',save_best_only=True) \n",
    "\n",
    "learning_rate_reduction = tf.keras.callbacks.ReduceLROnPlateau(monitor='val_acc', \n",
    "                                            patience=2, \n",
    "                                            verbose=1, \n",
    "                                            factor=0.5, \n",
    "                                            min_lr=0.00001)\n",
    "\n",
    "callback_list = [checkpoint]\n"
   ]
  },
  {
   "cell_type": "code",
   "execution_count": 16,
   "metadata": {},
   "outputs": [
    {
     "name": "stdout",
     "output_type": "stream",
     "text": [
      "WARNING:tensorflow:From <ipython-input-16-bdb3352f611a>:1: experimental_run_functions_eagerly (from tensorflow.python.eager.def_function) is deprecated and will be removed in a future version.\n",
      "Instructions for updating:\n",
      "Use `tf.config.run_functions_eagerly` instead of the experimental version.\n"
     ]
    }
   ],
   "source": [
    "tf.config.experimental_run_functions_eagerly(True)"
   ]
  },
  {
   "cell_type": "code",
   "execution_count": 17,
   "metadata": {},
   "outputs": [
    {
     "data": {
      "text/plain": [
       "{0: 1.0, 1: 2.0}"
      ]
     },
     "execution_count": 17,
     "metadata": {},
     "output_type": "execute_result"
    }
   ],
   "source": [
    "class_weight = {0:1.0,1:2.0}\n",
    "class_weight"
   ]
  },
  {
   "cell_type": "code",
   "execution_count": 18,
   "metadata": {},
   "outputs": [
    {
     "name": "stderr",
     "output_type": "stream",
     "text": [
      "/home/ubuntu/anaconda3/envs/tensorflow2_p36/lib/python3.6/site-packages/tensorflow/python/data/ops/dataset_ops.py:3350: UserWarning: Even though the tf.config.experimental_run_functions_eagerly option is set, this option does not apply to tf.data functions. tf.data functions are still traced and executed as graphs.\n",
      "  \"Even though the tf.config.experimental_run_functions_eagerly \"\n"
     ]
    },
    {
     "name": "stdout",
     "output_type": "stream",
     "text": [
      "Epoch 1/35\n",
      "1174/1174 [==============================] - 1414s 1s/step - loss: 0.2569 - tp: 21430.0000 - fp: 9206.0000 - tn: 382133.0000 - fn: 38035.0000 - accuracy: 0.8952 - precision: 0.6995 - recall: 0.3604 - auc: 0.8835 - val_loss: 0.2269 - val_tp: 7006.0000 - val_fp: 2913.0000 - val_tn: 95750.0000 - val_fn: 7611.0000 - val_accuracy: 0.9071 - val_precision: 0.7063 - val_recall: 0.4793 - val_auc: 0.9111\n",
      "Epoch 2/35\n",
      "1174/1174 [==============================] - 1350s 1s/step - loss: 0.2101 - tp: 31390.0000 - fp: 9611.0000 - tn: 381284.0000 - fn: 28531.0000 - accuracy: 0.9154 - precision: 0.7656 - recall: 0.5239 - auc: 0.9258 - val_loss: 0.2127 - val_tp: 6487.0000 - val_fp: 1387.0000 - val_tn: 97276.0000 - val_fn: 8130.0000 - val_accuracy: 0.9160 - val_precision: 0.8239 - val_recall: 0.4438 - val_auc: 0.9271\n",
      "Epoch 3/35\n",
      "1174/1174 [==============================] - 1329s 1s/step - loss: 0.1961 - tp: 33148.0000 - fp: 9205.0000 - tn: 382466.0000 - fn: 25997.0000 - accuracy: 0.9219 - precision: 0.7827 - recall: 0.5605 - auc: 0.9344 - val_loss: 0.1943 - val_tp: 7490.0000 - val_fp: 1567.0000 - val_tn: 97096.0000 - val_fn: 7127.0000 - val_accuracy: 0.9233 - val_precision: 0.8270 - val_recall: 0.5124 - val_auc: 0.9369\n",
      "Epoch 4/35\n",
      "1174/1174 [==============================] - 1311s 1s/step - loss: 0.1839 - tp: 35865.0000 - fp: 8889.0000 - tn: 382362.0000 - fn: 23700.0000 - accuracy: 0.9277 - precision: 0.8014 - recall: 0.6021 - auc: 0.9428 - val_loss: 0.1815 - val_tp: 7938.0000 - val_fp: 1285.0000 - val_tn: 97378.0000 - val_fn: 6679.0000 - val_accuracy: 0.9297 - val_precision: 0.8607 - val_recall: 0.5431 - val_auc: 0.9458\n",
      "Epoch 5/35\n",
      "1174/1174 [==============================] - 1298s 1s/step - loss: 0.1728 - tp: 37649.0000 - fp: 8311.0000 - tn: 382789.0000 - fn: 22067.0000 - accuracy: 0.9326 - precision: 0.8192 - recall: 0.6305 - auc: 0.9498 - val_loss: 0.1839 - val_tp: 7988.0000 - val_fp: 1268.0000 - val_tn: 97395.0000 - val_fn: 6629.0000 - val_accuracy: 0.9303 - val_precision: 0.8630 - val_recall: 0.5465 - val_auc: 0.9451\n",
      "Epoch 6/35\n",
      "1174/1174 [==============================] - 1289s 1s/step - loss: 0.1691 - tp: 38264.0000 - fp: 8216.0000 - tn: 382755.0000 - fn: 21569.0000 - accuracy: 0.9339 - precision: 0.8232 - recall: 0.6395 - auc: 0.9521 - val_loss: 0.1940 - val_tp: 7400.0000 - val_fp: 1030.0000 - val_tn: 97633.0000 - val_fn: 7217.0000 - val_accuracy: 0.9272 - val_precision: 0.8778 - val_recall: 0.5063 - val_auc: 0.9420\n",
      "Epoch 7/35\n",
      "1174/1174 [==============================] - 1282s 1s/step - loss: 0.1671 - tp: 38953.0000 - fp: 8159.0000 - tn: 382694.0000 - fn: 21010.0000 - accuracy: 0.9353 - precision: 0.8268 - recall: 0.6496 - auc: 0.9531 - val_loss: 0.1735 - val_tp: 8492.0000 - val_fp: 1191.0000 - val_tn: 97472.0000 - val_fn: 6125.0000 - val_accuracy: 0.9354 - val_precision: 0.8770 - val_recall: 0.5810 - val_auc: 0.9503\n",
      "Epoch 8/35\n",
      "1174/1174 [==============================] - 1292s 1s/step - loss: 0.1601 - tp: 39488.0000 - fp: 7825.0000 - tn: 383439.0000 - fn: 20064.0000 - accuracy: 0.9381 - precision: 0.8346 - recall: 0.6631 - auc: 0.9565 - val_loss: 0.1825 - val_tp: 8175.0000 - val_fp: 1102.0000 - val_tn: 97561.0000 - val_fn: 6442.0000 - val_accuracy: 0.9334 - val_precision: 0.8812 - val_recall: 0.5593 - val_auc: 0.9483\n",
      "Epoch 9/35\n",
      "1174/1174 [==============================] - 1287s 1s/step - loss: 0.1552 - tp: 40110.0000 - fp: 7726.0000 - tn: 383709.0000 - fn: 19271.0000 - accuracy: 0.9401 - precision: 0.8385 - recall: 0.6755 - auc: 0.9594 - val_loss: 0.1608 - val_tp: 9149.0000 - val_fp: 1386.0000 - val_tn: 97277.0000 - val_fn: 5468.0000 - val_accuracy: 0.9395 - val_precision: 0.8684 - val_recall: 0.6259 - val_auc: 0.9550\n",
      "Epoch 10/35\n",
      "1174/1174 [==============================] - 1281s 1s/step - loss: 0.1527 - tp: 41196.0000 - fp: 7738.0000 - tn: 383104.0000 - fn: 18766.0000 - accuracy: 0.9412 - precision: 0.8419 - recall: 0.6870 - auc: 0.9610 - val_loss: 0.1613 - val_tp: 9037.0000 - val_fp: 1225.0000 - val_tn: 97438.0000 - val_fn: 5580.0000 - val_accuracy: 0.9399 - val_precision: 0.8806 - val_recall: 0.6183 - val_auc: 0.9564\n",
      "Epoch 11/35\n",
      "1174/1174 [==============================] - 1275s 1s/step - loss: 0.1501 - tp: 41519.0000 - fp: 7554.0000 - tn: 383305.0000 - fn: 18438.0000 - accuracy: 0.9423 - precision: 0.8461 - recall: 0.6925 - auc: 0.9623 - val_loss: 0.1590 - val_tp: 9271.0000 - val_fp: 1347.0000 - val_tn: 97316.0000 - val_fn: 5346.0000 - val_accuracy: 0.9409 - val_precision: 0.8731 - val_recall: 0.6343 - val_auc: 0.9563\n",
      "Epoch 12/35\n",
      "1174/1174 [==============================] - 1279s 1s/step - loss: 0.1486 - tp: 41136.0000 - fp: 7468.0000 - tn: 383876.0000 - fn: 18336.0000 - accuracy: 0.9428 - precision: 0.8464 - recall: 0.6917 - auc: 0.9629 - val_loss: 0.1582 - val_tp: 9293.0000 - val_fp: 1351.0000 - val_tn: 97312.0000 - val_fn: 5324.0000 - val_accuracy: 0.9411 - val_precision: 0.8731 - val_recall: 0.6358 - val_auc: 0.9569\n",
      "Epoch 13/35\n",
      "1174/1174 [==============================] - 1277s 1s/step - loss: 0.1483 - tp: 41631.0000 - fp: 7621.0000 - tn: 383310.0000 - fn: 18254.0000 - accuracy: 0.9426 - precision: 0.8453 - recall: 0.6952 - auc: 0.9634 - val_loss: 0.1701 - val_tp: 8776.0000 - val_fp: 1086.0000 - val_tn: 97577.0000 - val_fn: 5841.0000 - val_accuracy: 0.9389 - val_precision: 0.8899 - val_recall: 0.6004 - val_auc: 0.9525\n",
      "Epoch 14/35\n",
      "1174/1174 [==============================] - 1271s 1s/step - loss: 0.1489 - tp: 41422.0000 - fp: 7562.0000 - tn: 383574.0000 - fn: 18246.0000 - accuracy: 0.9428 - precision: 0.8456 - recall: 0.6942 - auc: 0.9629 - val_loss: 0.1550 - val_tp: 9453.0000 - val_fp: 1436.0000 - val_tn: 97227.0000 - val_fn: 5164.0000 - val_accuracy: 0.9417 - val_precision: 0.8681 - val_recall: 0.6467 - val_auc: 0.9580\n",
      "Epoch 15/35\n",
      "1174/1174 [==============================] - 1268s 1s/step - loss: 0.1445 - tp: 41784.0000 - fp: 7258.0000 - tn: 384104.0000 - fn: 17658.0000 - accuracy: 0.9447 - precision: 0.8520 - recall: 0.7029 - auc: 0.9645 - val_loss: 0.1561 - val_tp: 9313.0000 - val_fp: 1285.0000 - val_tn: 97378.0000 - val_fn: 5304.0000 - val_accuracy: 0.9418 - val_precision: 0.8788 - val_recall: 0.6371 - val_auc: 0.9579\n",
      "Epoch 16/35\n",
      "1174/1174 [==============================] - 1299s 1s/step - loss: 0.1412 - tp: 42241.0000 - fp: 7219.0000 - tn: 384141.0000 - fn: 17203.0000 - accuracy: 0.9458 - precision: 0.8540 - recall: 0.7106 - auc: 0.9664 - val_loss: 0.1605 - val_tp: 9247.0000 - val_fp: 1203.0000 - val_tn: 97460.0000 - val_fn: 5370.0000 - val_accuracy: 0.9420 - val_precision: 0.8849 - val_recall: 0.6326 - val_auc: 0.9567\n",
      "Epoch 17/35\n",
      "1174/1174 [==============================] - 1292s 1s/step - loss: 0.1396 - tp: 42324.0000 - fp: 7110.0000 - tn: 384495.0000 - fn: 16887.0000 - accuracy: 0.9468 - precision: 0.8562 - recall: 0.7148 - auc: 0.9669 - val_loss: 0.1504 - val_tp: 9795.0000 - val_fp: 1475.0000 - val_tn: 97188.0000 - val_fn: 4822.0000 - val_accuracy: 0.9444 - val_precision: 0.8691 - val_recall: 0.6701 - val_auc: 0.9598\n",
      "Epoch 18/35\n",
      "1174/1174 [==============================] - 1277s 1s/step - loss: 0.1377 - tp: 43230.0000 - fp: 7134.0000 - tn: 383768.0000 - fn: 16684.0000 - accuracy: 0.9472 - precision: 0.8584 - recall: 0.7215 - auc: 0.9685 - val_loss: 0.1501 - val_tp: 9729.0000 - val_fp: 1358.0000 - val_tn: 97305.0000 - val_fn: 4888.0000 - val_accuracy: 0.9449 - val_precision: 0.8775 - val_recall: 0.6656 - val_auc: 0.9605\n",
      "Epoch 19/35\n",
      "1174/1174 [==============================] - 1280s 1s/step - loss: 0.1354 - tp: 43237.0000 - fp: 7117.0000 - tn: 384049.0000 - fn: 16413.0000 - accuracy: 0.9478 - precision: 0.8587 - recall: 0.7248 - auc: 0.9697 - val_loss: 0.1498 - val_tp: 9766.0000 - val_fp: 1384.0000 - val_tn: 97279.0000 - val_fn: 4851.0000 - val_accuracy: 0.9450 - val_precision: 0.8759 - val_recall: 0.6681 - val_auc: 0.9598\n",
      "Epoch 20/35\n",
      "1174/1174 [==============================] - 1275s 1s/step - loss: 0.1334 - tp: 43392.0000 - fp: 6990.0000 - tn: 384391.0000 - fn: 16043.0000 - accuracy: 0.9489 - precision: 0.8613 - recall: 0.7301 - auc: 0.9704 - val_loss: 0.1541 - val_tp: 9511.0000 - val_fp: 1157.0000 - val_tn: 97506.0000 - val_fn: 5106.0000 - val_accuracy: 0.9447 - val_precision: 0.8915 - val_recall: 0.6507 - val_auc: 0.9592\n",
      "Epoch 21/35\n",
      "1174/1174 [==============================] - 1275s 1s/step - loss: 0.1333 - tp: 44333.0000 - fp: 7034.0000 - tn: 383547.0000 - fn: 15902.0000 - accuracy: 0.9491 - precision: 0.8631 - recall: 0.7360 - auc: 0.9707 - val_loss: 0.1502 - val_tp: 9744.0000 - val_fp: 1292.0000 - val_tn: 97371.0000 - val_fn: 4873.0000 - val_accuracy: 0.9456 - val_precision: 0.8829 - val_recall: 0.6666 - val_auc: 0.9601\n",
      "Epoch 22/35\n",
      "1174/1174 [==============================] - 1281s 1s/step - loss: 0.1332 - tp: 43970.0000 - fp: 7013.0000 - tn: 383927.0000 - fn: 15906.0000 - accuracy: 0.9492 - precision: 0.8624 - recall: 0.7344 - auc: 0.9706 - val_loss: 0.1503 - val_tp: 9699.0000 - val_fp: 1217.0000 - val_tn: 97446.0000 - val_fn: 4918.0000 - val_accuracy: 0.9458 - val_precision: 0.8885 - val_recall: 0.6635 - val_auc: 0.9607\n",
      "Epoch 23/35\n",
      "1174/1174 [==============================] - 1277s 1s/step - loss: 0.1330 - tp: 43656.0000 - fp: 6954.0000 - tn: 384165.0000 - fn: 16029.0000 - accuracy: 0.9490 - precision: 0.8626 - recall: 0.7314 - auc: 0.9706 - val_loss: 0.1454 - val_tp: 10036.0000 - val_fp: 1433.0000 - val_tn: 97230.0000 - val_fn: 4581.0000 - val_accuracy: 0.9469 - val_precision: 0.8751 - val_recall: 0.6866 - val_auc: 0.9621\n",
      "Epoch 24/35\n",
      "1174/1174 [==============================] - 1273s 1s/step - loss: 0.1317 - tp: 43773.0000 - fp: 6970.0000 - tn: 384203.0000 - fn: 15870.0000 - accuracy: 0.9493 - precision: 0.8626 - recall: 0.7339 - auc: 0.9712 - val_loss: 0.1487 - val_tp: 9835.0000 - val_fp: 1301.0000 - val_tn: 97362.0000 - val_fn: 4782.0000 - val_accuracy: 0.9463 - val_precision: 0.8832 - val_recall: 0.6728 - val_auc: 0.9607\n",
      "Epoch 25/35\n",
      "1174/1174 [==============================] - 1276s 1s/step - loss: 0.1321 - tp: 44028.0000 - fp: 7051.0000 - tn: 383997.0000 - fn: 15740.0000 - accuracy: 0.9494 - precision: 0.8620 - recall: 0.7366 - auc: 0.9712 - val_loss: 0.1475 - val_tp: 9884.0000 - val_fp: 1333.0000 - val_tn: 97330.0000 - val_fn: 4733.0000 - val_accuracy: 0.9465 - val_precision: 0.8812 - val_recall: 0.6762 - val_auc: 0.9614\n",
      "Epoch 26/35\n",
      "1174/1174 [==============================] - 1276s 1s/step - loss: 0.1301 - tp: 44342.0000 - fp: 6832.0000 - tn: 384036.0000 - fn: 15594.0000 - accuracy: 0.9503 - precision: 0.8665 - recall: 0.7398 - auc: 0.9721 - val_loss: 0.1464 - val_tp: 9947.0000 - val_fp: 1367.0000 - val_tn: 97296.0000 - val_fn: 4670.0000 - val_accuracy: 0.9467 - val_precision: 0.8792 - val_recall: 0.6805 - val_auc: 0.9620\n",
      "Epoch 27/35\n",
      "1174/1174 [==============================] - 1274s 1s/step - loss: 0.1326 - tp: 43940.0000 - fp: 7199.0000 - tn: 383764.0000 - fn: 15913.0000 - accuracy: 0.9487 - precision: 0.8592 - recall: 0.7341 - auc: 0.9710 - val_loss: 0.1498 - val_tp: 9844.0000 - val_fp: 1388.0000 - val_tn: 97275.0000 - val_fn: 4773.0000 - val_accuracy: 0.9456 - val_precision: 0.8764 - val_recall: 0.6735 - val_auc: 0.9605\n",
      "Epoch 28/35\n",
      "1174/1174 [==============================] - 1270s 1s/step - loss: 0.1313 - tp: 43835.0000 - fp: 7018.0000 - tn: 384289.0000 - fn: 15662.0000 - accuracy: 0.9497 - precision: 0.8620 - recall: 0.7368 - auc: 0.9712 - val_loss: 0.1483 - val_tp: 9873.0000 - val_fp: 1323.0000 - val_tn: 97340.0000 - val_fn: 4744.0000 - val_accuracy: 0.9464 - val_precision: 0.8818 - val_recall: 0.6754 - val_auc: 0.9606\n",
      "Epoch 29/35\n",
      "1174/1174 [==============================] - 1269s 1s/step - loss: 0.1297 - tp: 44138.0000 - fp: 6881.0000 - tn: 384291.0000 - fn: 15494.0000 - accuracy: 0.9504 - precision: 0.8651 - recall: 0.7402 - auc: 0.9719 - val_loss: 0.1455 - val_tp: 10183.0000 - val_fp: 1620.0000 - val_tn: 97043.0000 - val_fn: 4434.0000 - val_accuracy: 0.9466 - val_precision: 0.8627 - val_recall: 0.6967 - val_auc: 0.9616\n",
      "Epoch 30/35\n",
      "1174/1174 [==============================] - 1269s 1s/step - loss: 0.1300 - tp: 44765.0000 - fp: 7035.0000 - tn: 383443.0000 - fn: 15573.0000 - accuracy: 0.9499 - precision: 0.8642 - recall: 0.7419 - auc: 0.9726 - val_loss: 0.1484 - val_tp: 9770.0000 - val_fp: 1240.0000 - val_tn: 97423.0000 - val_fn: 4847.0000 - val_accuracy: 0.9463 - val_precision: 0.8874 - val_recall: 0.6684 - val_auc: 0.9618\n",
      "Epoch 31/35\n",
      "1174/1174 [==============================] - 1270s 1s/step - loss: 0.1267 - tp: 44546.0000 - fp: 6918.0000 - tn: 384228.0000 - fn: 15124.0000 - accuracy: 0.9511 - precision: 0.8656 - recall: 0.7465 - auc: 0.9734 - val_loss: 0.1468 - val_tp: 9863.0000 - val_fp: 1211.0000 - val_tn: 97452.0000 - val_fn: 4754.0000 - val_accuracy: 0.9473 - val_precision: 0.8906 - val_recall: 0.6748 - val_auc: 0.9622\n",
      "Epoch 32/35\n",
      "1174/1174 [==============================] - 1270s 1s/step - loss: 0.1259 - tp: 44600.0000 - fp: 6848.0000 - tn: 384449.0000 - fn: 14907.0000 - accuracy: 0.9517 - precision: 0.8669 - recall: 0.7495 - auc: 0.9737 - val_loss: 0.1431 - val_tp: 10013.0000 - val_fp: 1326.0000 - val_tn: 97337.0000 - val_fn: 4604.0000 - val_accuracy: 0.9477 - val_precision: 0.8831 - val_recall: 0.6850 - val_auc: 0.9640\n",
      "Epoch 33/35\n",
      "1174/1174 [==============================] - 1269s 1s/step - loss: 0.1264 - tp: 45092.0000 - fp: 6859.0000 - tn: 383867.0000 - fn: 14986.0000 - accuracy: 0.9515 - precision: 0.8680 - recall: 0.7506 - auc: 0.9738 - val_loss: 0.1405 - val_tp: 10423.0000 - val_fp: 1586.0000 - val_tn: 97077.0000 - val_fn: 4194.0000 - val_accuracy: 0.9490 - val_precision: 0.8679 - val_recall: 0.7131 - val_auc: 0.9644\n",
      "Epoch 34/35\n",
      "1174/1174 [==============================] - 1269s 1s/step - loss: 0.1240 - tp: 45225.0000 - fp: 6842.0000 - tn: 384207.0000 - fn: 14542.0000 - accuracy: 0.9526 - precision: 0.8686 - recall: 0.7567 - auc: 0.9748 - val_loss: 0.1453 - val_tp: 9933.0000 - val_fp: 1285.0000 - val_tn: 97378.0000 - val_fn: 4684.0000 - val_accuracy: 0.9473 - val_precision: 0.8855 - val_recall: 0.6796 - val_auc: 0.9629\n",
      "Epoch 35/35\n",
      "1174/1174 [==============================] - 1268s 1s/step - loss: 0.1231 - tp: 44814.0000 - fp: 6721.0000 - tn: 384781.0000 - fn: 14488.0000 - accuracy: 0.9530 - precision: 0.8696 - recall: 0.7557 - auc: 0.9746 - val_loss: 0.1409 - val_tp: 10215.0000 - val_fp: 1355.0000 - val_tn: 97308.0000 - val_fn: 4402.0000 - val_accuracy: 0.9492 - val_precision: 0.8829 - val_recall: 0.6988 - val_auc: 0.9647\n"
     ]
    }
   ],
   "source": [
    "\n",
    "\n",
    "\n",
    "num_epochs = 35\n",
    "\n",
    "batch_size = 512\n",
    "training_steps = len(training_data) // batch_size\n",
    "validation_step = len(validation_data) // batch_size\n",
    "\n",
    "\n",
    "\n",
    "\n",
    "\n",
    "# FIT THE MODEL\n",
    "history = model.fit(train_under_generator,\n",
    "            epochs=num_epochs,\n",
    "            steps_per_epoch=training_steps,\n",
    "            callbacks=callback_list,\n",
    "            class_weight=class_weight,\n",
    "            validation_data=valid_under_generator,\n",
    "            validation_steps= validation_step\n",
    "                   ) \n",
    "\n",
    "\n",
    "\n",
    "\n",
    "\n",
    "tf.keras.backend.clear_session()\n"
   ]
  },
  {
   "cell_type": "code",
   "execution_count": null,
   "metadata": {},
   "outputs": [],
   "source": []
  },
  {
   "cell_type": "markdown",
   "metadata": {},
   "source": [
    "# Evalution"
   ]
  },
  {
   "cell_type": "code",
   "execution_count": 19,
   "metadata": {},
   "outputs": [
    {
     "name": "stdout",
     "output_type": "stream",
     "text": [
      "WARNING:tensorflow:From <ipython-input-19-b13240840368>:1: Model.evaluate_generator (from tensorflow.python.keras.engine.training) is deprecated and will be removed in a future version.\n",
      "Instructions for updating:\n",
      "Please use Model.evaluate, which supports generators.\n",
      "[0.14285612106323242, 35334.0, 4761.0, 330681.0, 15144.0, 0.9484224319458008, 0.8812569975852966, 0.6999881267547607, 0.9643110036849976]\n"
     ]
    }
   ],
   "source": [
    "valid_predict =  model.evaluate_generator(valid_under_generator)\n",
    "print(valid_predict)"
   ]
  },
  {
   "cell_type": "code",
   "execution_count": 20,
   "metadata": {},
   "outputs": [
    {
     "data": {
      "text/plain": [
       "['loss', 'tp', 'fp', 'tn', 'fn', 'accuracy', 'precision', 'recall', 'auc']"
      ]
     },
     "execution_count": 20,
     "metadata": {},
     "output_type": "execute_result"
    }
   ],
   "source": [
    "model.metrics_names"
   ]
  },
  {
   "cell_type": "code",
   "execution_count": 21,
   "metadata": {},
   "outputs": [
    {
     "name": "stdout",
     "output_type": "stream",
     "text": [
      "\n",
      "---------------\n",
      "\n",
      "validation data **loss** value = 0.14285612106323242\n",
      "\n",
      "---------------\n",
      "\n",
      "validation data **true positive** value =  35334.0\n",
      "\n",
      "---------------\n",
      "\n",
      "validation data **false positive** value = 4761.0\n",
      "\n",
      "---------------\n",
      "\n",
      "validation data **true negative** value = 330681.0\n",
      "\n",
      "---------------\n",
      "\n",
      "validation data **false negative** value = 15144.0\n",
      "\n",
      "---------------\n",
      "\n",
      "validation data **accuracy** value =  0.9484224319458008\n",
      "\n",
      "---------------\n",
      "\n",
      "validation data **precision** value = 0.8812569975852966\n",
      "\n",
      "---------------\n",
      "\n",
      "validation data **recall* value = 0.6999881267547607\n",
      "\n",
      "---------------\n",
      "\n",
      "validation data **AUC* value = 0.9643110036849976\n",
      "\n",
      "---------------\n",
      "\n"
     ]
    }
   ],
   "source": [
    "print('\\n---------------\\n')\n",
    "print('validation data **loss** value =', valid_predict[0])\n",
    "print('\\n---------------\\n')\n",
    "print('validation data **true positive** value = ', valid_predict[1])\n",
    "print('\\n---------------\\n')\n",
    "print('validation data **false positive** value =', valid_predict[2])\n",
    "print('\\n---------------\\n')\n",
    "print('validation data **true negative** value =', valid_predict[3])\n",
    "print('\\n---------------\\n')\n",
    "print('validation data **false negative** value =', valid_predict[4])\n",
    "print('\\n---------------\\n')\n",
    "print('validation data **accuracy** value = ', valid_predict[5])\n",
    "print('\\n---------------\\n')\n",
    "print('validation data **precision** value =', valid_predict[6])\n",
    "print('\\n---------------\\n')\n",
    "print('validation data **recall* value =', valid_predict[7])\n",
    "print('\\n---------------\\n')\n",
    "print('validation data **AUC* value =', valid_predict[8])\n",
    "print('\\n---------------\\n')"
   ]
  },
  {
   "cell_type": "code",
   "execution_count": 23,
   "metadata": {},
   "outputs": [
    {
     "name": "stdout",
     "output_type": "stream",
     "text": [
      "WARNING:tensorflow:From <ipython-input-23-8e5b4df874af>:3: Model.predict_generator (from tensorflow.python.keras.engine.training) is deprecated and will be removed in a future version.\n",
      "Instructions for updating:\n",
      "Please use Model.predict, which supports generators.\n"
     ]
    }
   ],
   "source": [
    "y_true = m[['any','epidural','intraparenchymal','intraventricular', 'subarachnoid','subdural']].reset_index(drop=True)\n",
    "\n",
    "#Y_pred = model.predict_generator(valid_under_generator)\n",
    "preds = np.where(Y_pred < 0.25, 0, 1)\n",
    "\n",
    "\n",
    "\n",
    "#val = 0.25\n",
    "\n",
    "#Y_pred[Y_pred>=val]=1\n",
    "#Y_pred[Y_pred<val]=0"
   ]
  },
  {
   "cell_type": "markdown",
   "metadata": {},
   "source": [
    "# Classification"
   ]
  },
  {
   "cell_type": "code",
   "execution_count": 24,
   "metadata": {},
   "outputs": [
    {
     "name": "stdout",
     "output_type": "stream",
     "text": [
      "Classification Report\n",
      "                  precision    recall  f1-score   support\n",
      "\n",
      "             any       0.86      0.89      0.87     21440\n",
      "        epidural       0.31      0.16      0.21       625\n",
      "intraparenchymal       0.79      0.79      0.79      7287\n",
      "intraventricular       0.77      0.82      0.80      4867\n",
      "    subarachnoid       0.66      0.65      0.66      6817\n",
      "        subdural       0.72      0.74      0.73      9442\n",
      "\n",
      "       micro avg       0.78      0.80      0.79     50478\n",
      "       macro avg       0.68      0.67      0.68     50478\n",
      "    weighted avg       0.78      0.80      0.79     50478\n",
      "     samples avg       0.27      0.27      0.26     50478\n",
      "\n"
     ]
    },
    {
     "name": "stderr",
     "output_type": "stream",
     "text": [
      "/home/ubuntu/anaconda3/envs/tensorflow2_p36/lib/python3.6/site-packages/sklearn/metrics/_classification.py:1272: UndefinedMetricWarning: Precision and F-score are ill-defined and being set to 0.0 in samples with no predicted labels. Use `zero_division` parameter to control this behavior.\n",
      "  _warn_prf(average, modifier, msg_start, len(result))\n",
      "/home/ubuntu/anaconda3/envs/tensorflow2_p36/lib/python3.6/site-packages/sklearn/metrics/_classification.py:1272: UndefinedMetricWarning: Recall and F-score are ill-defined and being set to 0.0 in samples with no true labels. Use `zero_division` parameter to control this behavior.\n",
      "  _warn_prf(average, modifier, msg_start, len(result))\n"
     ]
    }
   ],
   "source": [
    "print('Classification Report')\n",
    "target_names = ['any','epidural','intraparenchymal','intraventricular', 'subarachnoid','subdural']\n",
    "print(classification_report(y_true, preds, target_names=target_names))"
   ]
  },
  {
   "cell_type": "code",
   "execution_count": 29,
   "metadata": {},
   "outputs": [
    {
     "data": {
      "image/png": "[encoded data removed]",
      "text/plain": [
       "<Figure size 1008x576 with 6 Axes>"
      ]
     },
     "metadata": {
      "needs_background": "light"
     },
     "output_type": "display_data"
    }
   ],
   "source": [
    "import seaborn as sns\n",
    "from sklearn.metrics import multilabel_confusion_matrix\n",
    "# Creating multilabel confusion matrix\n",
    "confusion = multilabel_confusion_matrix(y_true, preds)\n",
    "mlb= ['any','epidural','intraparenchymal','intraventricular', 'subarachnoid','subdural']\n",
    "# Plot confusion matrix \n",
    "fig = plt.figure(figsize = (14, 8))\n",
    "for i, (label, matrix) in enumerate(zip(mlb, confusion)):\n",
    "    plt.subplot(f'23{i+1}')\n",
    "    labels = [f'not_{label}', label]\n",
    "    sns.heatmap(matrix, annot = True, square = True, fmt = 'd', cbar = False, cmap = 'Blues', \n",
    "                xticklabels = labels, yticklabels = labels, linecolor = 'black', linewidth = 1)\n",
    "    plt.title(labels[0])\n",
    "\n",
    "plt.tight_layout()\n",
    "plt.show()"
   ]
  },
  {
   "cell_type": "markdown",
   "metadata": {},
   "source": [
    "# AUC_ROC_SCORE"
   ]
  },
  {
   "cell_type": "code",
   "execution_count": 26,
   "metadata": {},
   "outputs": [
    {
     "name": "stdout",
     "output_type": "stream",
     "text": [
      "0.8195484097257365\n"
     ]
    }
   ],
   "source": [
    "auc = roc_auc_score(y_true, preds)\n",
    "print(auc)"
   ]
  },
  {
   "cell_type": "markdown",
   "metadata": {},
   "source": [
    "# ACCURACY and LOSS"
   ]
  },
  {
   "cell_type": "code",
   "execution_count": 27,
   "metadata": {},
   "outputs": [],
   "source": [
    "def plot_training(H):\n",
    "    # construct a plot that plots and saves the training history\n",
    "    with plt.xkcd():\n",
    "        plt.figure(figsize = (10,10))\n",
    "        plt.plot(H.epoch,H.history[\"accuracy\"], label=\"train_acc\")\n",
    "        plt.plot(H.epoch,H.history[\"val_accuracy\"], label=\"val_acc\")\n",
    "        plt.plot(H.epoch,H.history[\"loss\"], label=\"train_loss\")\n",
    "        plt.plot(H.epoch,H.history[\"val_loss\"], label=\"val_loss\")\n",
    "        plt.title(\"Training Accuracy and Loss\")\n",
    "        plt.xlabel(\"Epoch #\")\n",
    "        plt.ylabel(\"Accuracy/Loss\")\n",
    "        plt.legend(loc=\"lower left\")\n",
    "        plt.show()"
   ]
  },
  {
   "cell_type": "code",
   "execution_count": 28,
   "metadata": {},
   "outputs": [
    {
     "name": "stderr",
     "output_type": "stream",
     "text": [
      "findfont: Font family ['xkcd', 'xkcd Script', 'Humor Sans', 'Comic Sans MS'] not found. Falling back to DejaVu Sans.\n",
      "findfont: Font family ['xkcd', 'xkcd Script', 'Humor Sans', 'Comic Sans MS'] not found. Falling back to DejaVu Sans.\n"
     ]
    },
    {
     "data": {
      "image/png": "[encoded data removed]",
      "text/plain": [
       "<Figure size 720x720 with 1 Axes>"
      ]
     },
     "metadata": {},
     "output_type": "display_data"
    }
   ],
   "source": [
    "plot_training(history)"
   ]
  },
  {
   "cell_type": "code",
   "execution_count": null,
   "metadata": {},
   "outputs": [],
   "source": [
    "from sklearn.utils import class_weight\n",
    "\n",
    "#list_classes = ['any','epidural','intraparenchymal','intraventricular', 'subarachnoid','subdural']\n",
    "#y = l[list_classes].values\n",
    "#sample_weights = class_weight.compute_sample_weight('balanced', y)"
   ]
  },
  {
   "cell_type": "code",
   "execution_count": null,
   "metadata": {},
   "outputs": [],
   "source": [
    "#sample_weights.shape"
   ]
  },
  {
   "cell_type": "code",
   "execution_count": 39,
   "metadata": {},
   "outputs": [],
   "source": [
    "size =5"
   ]
  },
  {
   "cell_type": "code",
   "execution_count": 32,
   "metadata": {},
   "outputs": [],
   "source": [
    "layer_name = 'my_layer'\n",
    "intermediate_layer_model = Model(inputs=model.input,\n",
    "                                 outputs=model.get_layer('dense').output)\n"
   ]
  },
  {
   "cell_type": "code",
   "execution_count": 33,
   "metadata": {},
   "outputs": [
    {
     "name": "stderr",
     "output_type": "stream",
     "text": [
      "/home/ubuntu/anaconda3/envs/tensorflow2_p36/lib/python3.6/site-packages/tensorflow/python/data/ops/dataset_ops.py:3350: UserWarning: Even though the tf.config.experimental_run_functions_eagerly option is set, this option does not apply to tf.data functions. tf.data functions are still traced and executed as graphs.\n",
      "  \"Even though the tf.config.experimental_run_functions_eagerly \"\n"
     ]
    }
   ],
   "source": [
    "train_prediction = intermediate_layer_model.predict_generator(train_under_generator)"
   ]
  },
  {
   "cell_type": "code",
   "execution_count": 38,
   "metadata": {},
   "outputs": [
    {
     "name": "stderr",
     "output_type": "stream",
     "text": [
      "/home/ubuntu/anaconda3/envs/tensorflow2_p36/lib/python3.6/site-packages/tensorflow/python/data/ops/dataset_ops.py:3350: UserWarning: Even though the tf.config.experimental_run_functions_eagerly option is set, this option does not apply to tf.data functions. tf.data functions are still traced and executed as graphs.\n",
      "  \"Even though the tf.config.experimental_run_functions_eagerly \"\n"
     ]
    }
   ],
   "source": [
    "valid_prediction = intermediate_layer_model.predict_generator(valid_under_generator)"
   ]
  },
  {
   "cell_type": "code",
   "execution_count": 40,
   "metadata": {},
   "outputs": [
    {
     "name": "stderr",
     "output_type": "stream",
     "text": [
      "/home/ubuntu/anaconda3/envs/tensorflow2_p36/lib/python3.6/site-packages/sklearn/externals/joblib/__init__.py:15: FutureWarning: sklearn.externals.joblib is deprecated in 0.21 and will be removed in 0.23. Please import this functionality directly from joblib, which can be installed with: pip install joblib. If this warning is raised when loading pickled models, you may need to re-serialize those models with scikit-learn 0.21+.\n",
      "  warnings.warn(msg, category=FutureWarning)\n"
     ]
    },
    {
     "data": {
      "text/plain": [
       "['Valid_Classifier1.pkl']"
      ]
     },
     "execution_count": 40,
     "metadata": {},
     "output_type": "execute_result"
    }
   ],
   "source": [
    "from sklearn.externals import joblib\n",
    "joblib.dump(train_prediction, 'train_Classifier1.pkl')#save model\n",
    "joblib.dump(valid_prediction, 'Valid_Classifier1.pkl')#save model"
   ]
  },
  {
   "cell_type": "code",
   "execution_count": 42,
   "metadata": {},
   "outputs": [
    {
     "data": {
      "text/plain": [
       "((257598, 256), (64320, 256))"
      ]
     },
     "execution_count": 42,
     "metadata": {},
     "output_type": "execute_result"
    }
   ],
   "source": [
    "train_prediction.shape, valid_prediction.shape"
   ]
  },
  {
   "cell_type": "code",
   "execution_count": 43,
   "metadata": {},
   "outputs": [
    {
     "data": {
      "text/plain": [
       "(numpy.ndarray, numpy.ndarray)"
      ]
     },
     "execution_count": 43,
     "metadata": {},
     "output_type": "execute_result"
    }
   ],
   "source": [
    "type(train_prediction), type(valid_prediction)"
   ]
  },
  {
   "cell_type": "code",
   "execution_count": null,
   "metadata": {},
   "outputs": [],
   "source": [
    "from joblib import dump, load\n",
    "train_prediction = load('train_Classifier1.pkl')\n",
    "valid_prediction = load('Valid_Classifier1.pkl')"
   ]
  },
  {
   "cell_type": "code",
   "execution_count": 44,
   "metadata": {},
   "outputs": [],
   "source": [
    "X_train_XG_SVC = train_prediction\n",
    "X_dev_XG_SVC= valid_prediction"
   ]
  },
  {
   "cell_type": "code",
   "execution_count": 45,
   "metadata": {},
   "outputs": [
    {
     "data": {
      "text/plain": [
       "(257598, 256)"
      ]
     },
     "execution_count": 45,
     "metadata": {},
     "output_type": "execute_result"
    }
   ],
   "source": [
    "X_train_XG_SVC.shape"
   ]
  },
  {
   "cell_type": "code",
   "execution_count": null,
   "metadata": {},
   "outputs": [],
   "source": [
    "y_train = l[['any','epidural','intraparenchymal','intraventricular', 'subarachnoid','subdural']].values"
   ]
  },
  {
   "cell_type": "code",
   "execution_count": 48,
   "metadata": {},
   "outputs": [],
   "source": [
    "import xgboost as xgb\n",
    "from sklearn import svm\n",
    "from sklearn.multiclass import OneVsRestClassifier\n",
    "from sklearn.svm import LinearSVC\n",
    "from skmultilearn.problem_transform import BinaryRelevance\n",
    "seed = 42\n"
   ]
  },
  {
   "cell_type": "code",
   "execution_count": null,
   "metadata": {},
   "outputs": [],
   "source": [
    "classifier = OneVsRestClassifier(svm.SVC(kernel='rbf', probability=True, verbose=True,class_weight={0:1.0,1:2.0}, decision_function_shape='ovr'), n_jobs=-1)\n",
    "classifier.fit(X_train_XG_SVC, y_train).score(X_dev_XG_SVC, y_dev)"
   ]
  },
  {
   "cell_type": "code",
   "execution_count": null,
   "metadata": {},
   "outputs": [],
   "source": [
    "size = 5"
   ]
  },
  {
   "cell_type": "markdown",
   "metadata": {},
   "source": [
    "## SVM"
   ]
  },
  {
   "cell_type": "code",
   "execution_count": null,
   "metadata": {},
   "outputs": [],
   "source": [
    "classifier = BinaryRelevance(svm.SVC(kernel='rbf', probability=True, verbose=True,class_weight={0:1.0,1:2.0}, decision_function_shape='ovr'))\n",
    "classifier.fit(X_train_XG_SVC, y_train).score(X_dev_XG_SVC, y_dev)"
   ]
  },
  {
   "cell_type": "code",
   "execution_count": null,
   "metadata": {},
   "outputs": [],
   "source": [
    "prediction1 = classifier.predict_proba(X_dev_XG_SVC)"
   ]
  },
  {
   "cell_type": "code",
   "execution_count": null,
   "metadata": {},
   "outputs": [],
   "source": [
    "preds1 = np.where(prediction1 < 0.5, 0, 1)"
   ]
  },
  {
   "cell_type": "code",
   "execution_count": null,
   "metadata": {},
   "outputs": [],
   "source": [
    "print('Classification Report')\n",
    "target_names = ['any','epidural','intraparenchymal','intraventricular', 'subarachnoid','subdural']\n",
    "print(classification_report(y_true, preds1, target_names=target_names))"
   ]
  },
  {
   "cell_type": "code",
   "execution_count": null,
   "metadata": {},
   "outputs": [],
   "source": [
    "joblib.dump(xgb1, 'Classifier1.pkl')#save model"
   ]
  },
  {
   "cell_type": "markdown",
   "metadata": {},
   "source": [
    "## Xgboost"
   ]
  },
  {
   "cell_type": "code",
   "execution_count": null,
   "metadata": {},
   "outputs": [],
   "source": [
    "xgb1 = xgb.sklearn.XGBClassifier(\n",
    "        learning_rate =0.1,\n",
    "         n_estimators=1000,\n",
    "         max_depth=5,\n",
    "         min_child_weight=11,\n",
    "         gamma=0.1,\n",
    "         subsample=0.8,\n",
    "         colsample_bytree=0.7,\n",
    "         objective='multi:softprob',\n",
    "         n_jobs=-1,\n",
    "         scale_pos_weight=1,\n",
    "         seed=seed)\n",
    "\n",
    "\n"
   ]
  },
  {
   "cell_type": "code",
   "execution_count": null,
   "metadata": {},
   "outputs": [],
   "source": [
    "xgb1.fit(X_train_XG_SVC, y_train).score(X_dev_XG_SVC, y_dev)"
   ]
  },
  {
   "cell_type": "code",
   "execution_count": null,
   "metadata": {},
   "outputs": [],
   "source": [
    "y_pred_xgb = xgb1.predict_proba(X_val_XG_SVC)\n",
    "\n"
   ]
  },
  {
   "cell_type": "code",
   "execution_count": null,
   "metadata": {},
   "outputs": [],
   "source": [
    "preds2 = np.where(y_pred_xgb < 0.5, 0, 1) "
   ]
  },
  {
   "cell_type": "code",
   "execution_count": null,
   "metadata": {},
   "outputs": [],
   "source": [
    "print('Classification Report')\n",
    "target_names = ['any','epidural','intraparenchymal','intraventricular', 'subarachnoid','subdural']\n",
    "print(classification_report(y_true, preds2, target_names=target_names))"
   ]
  },
  {
   "cell_type": "code",
   "execution_count": null,
   "metadata": {},
   "outputs": [],
   "source": [
    "joblib.dump(xgb1, 'Classifier2.pkl')#save model"
   ]
  },
  {
   "cell_type": "markdown",
   "metadata": {},
   "source": [
    "## Stacked model"
   ]
  },
  {
   "cell_type": "code",
   "execution_count": null,
   "metadata": {},
   "outputs": [],
   "source": [
    "final_prediction = (preds + preds1 + preds2) / 3\n"
   ]
  },
  {
   "cell_type": "code",
   "execution_count": null,
   "metadata": {},
   "outputs": [],
   "source": [
    "y_train = l[['any','epidural','intraparenchymal','intraventricular', 'subarachnoid','subdural']].values"
   ]
  },
  {
   "cell_type": "code",
   "execution_count": null,
   "metadata": {},
   "outputs": [],
   "source": [
    "final_prediction = np.where(final_prediction < 0.5, 0, 1) "
   ]
  },
  {
   "cell_type": "code",
   "execution_count": null,
   "metadata": {},
   "outputs": [],
   "source": [
    "print('Classification Report')\n",
    "target_names = ['any','epidural','intraparenchymal','intraventricular', 'subarachnoid','subdural']\n",
    "print(classification_report(y_true, final_prediction, target_names=target_names))"
   ]
  },
  {
   "cell_type": "code",
   "execution_count": null,
   "metadata": {},
   "outputs": [],
   "source": [
    "joblib.dump(final_prediction, 'final_Classifier.pkl')#save model"
   ]
  },
  {
   "cell_type": "code",
   "execution_count": null,
   "metadata": {},
   "outputs": [],
   "source": []
  },
  {
   "cell_type": "code",
   "execution_count": null,
   "metadata": {},
   "outputs": [],
   "source": []
  }
 ],
 "metadata": {
  "kernelspec": {
   "display_name": "Python 3",
   "language": "python",
   "name": "python3"
  }
 },
 "nbformat": 4,
 "nbformat_minor": 4
}
